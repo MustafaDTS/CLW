{
 "cells": [
  {
   "cell_type": "markdown",
   "metadata": {
    "id": "Crn14DLz2alD"
   },
   "source": [
    "___\n",
    "\n",
    "<a href=\"https://lms.clarusway.com/course/view.php?id=7435\"><img align=\"center\" src=\"https://i.ibb.co/6Z5pQxD/lmss.png\" alt=\"Open in Clarusway LMS\" width=\"70\" height=\"200\" title=\"Open Clarusway Learning Management Sytem\"></a>\n",
    "\n",
    "___\n",
    "\n",
    "<a href=\"https://clarusway.com/\"><img align=\"center\" src=\"https://docs.google.com/uc?id=1lY0Uj5R04yMY3-ZppPWxqCr5pvBLYPnV\" alt=\"CLRSWY\" width=\"450\" height=\"200\" title=\"Welcome to Place Where You can Reinvent Yourself\"></a><br/>\n",
    "\n",
    "## <p style=\"background-color:#FDFEFE; font-family:newtimeroman; color:#9d4f8c; font-size:120%; text-align:center; border-radius:10px 10px;\">Way to Reinvent Yourself</p>\n",
    "\n",
    "<p style=\"text-align: center;\"><img src=\"https://i.ibb.co/99DQ3TY/DS-Courses.png\" class=\"img-fluid\" \n",
    "alt=\"CLRSWY\"></p>\n",
    "\n",
    "\n",
    "\n",
    "## <p style=\"background-color:#9d4f8c; font-family:newtimeroman; color:#FFF9ED; font-size:150%; text-align:center; border-radius:10px 10px;\">POLICE KILLING US - SEABORN VISUALiZATION TASK</p>\n",
    "\n",
    "<img src=https://i.ibb.co/z8vpsJM/police-killing-us.png width=\"700\" height=\"200\">  \n",
    "\n",
    "[Photo Credit: Wikipedia](https://en.wikipedia.org/wiki/Lists_of_killings_by_law_enforcement_officers_in_the_United_States#cite_note-1)\n",
    "\n",
    "\n",
    "\n",
    "## <p style=\"background-color:#FDFEFE; font-family:newtimeroman; color:#060108; font-size:200%; text-align:center; border-radius:10px 10px;\">Data Visualization with Python</p>\n",
    "\n",
    "![Image_Assignment](https://i.ibb.co/cY9HhF7/bnote-assignment.gif)\n",
    "\n",
    "## <p style=\"background-color:#FDFEFE; font-family:newtimeroman; color:#4d77cf; font-size:150%; text-align:center; border-radius:10px 10px;\">Assignment 02 (PoliceKillingUS-Seaborn)</p>"
   ]
  },
  {
   "cell_type": "markdown",
   "metadata": {},
   "source": [
    "<a id=\"toc\"></a>\n",
    "\n",
    "## <p style=\"background-color:#9d4f8c; font-family:newtimeroman; color:#FFF9ED; font-size:150%; text-align:center; border-radius:10px 10px;\">CONTENT</p>\n",
    "\n",
    "* [ABOUT THE DATASET & CONTEXT](#00)\n",
    "* [ABOUT THE FEATURES](#000)\n",
    "* [IMPORTING LIBRARIES NEEDED IN THIS NOTEBOOK](#0)\n",
    "* [INSTRUCTIONS (Tasks in the Assignment)](#1)\n",
    "* [TASK-01 PLOT AGE BY GENDER IN TERMS OF MANNER OF DEATH](#2)\n",
    "    * [1.1 Box plot of age in both genders separeted by manner of death](#2.1)\n",
    "    * [1.2 Box plot of age in both genders separeted by manner of death](#2.2)\n",
    "* [TASK-02 PLOT 12 MOST DANGEROUS CITIES](#3)\n",
    "* [TASK-03 PLOT 20 MOST DANGEROUS STATES](#4)\n",
    "* [TASK-04 PLOT THE KILLED PEOPLE HAVING MENTAL-ILLNESS OR NOT](#5) \n",
    "* [TASK-05 PLOT THE NUMBER OF THREAT TYPES](#6)\n",
    "* [TASK-06 PLOT THE NUMBER OF FLEE TYPES](#7)\n",
    "* [THE END OF THE ASSIGNMENT-02](#8)"
   ]
  },
  {
   "cell_type": "markdown",
   "metadata": {},
   "source": [
    "<a id=\"toc\"></a>\n",
    "\n",
    "## <p style=\"background-color:#9d4f8c; font-family:newtimeroman; color:#FFF9ED; font-size:150%; text-align:center; border-radius:10px 10px;\">ABOUT THE DATASET & CONTEXT</p>\n",
    "\n",
    "\"In 2015, The Washington Post began to log [every fatal shooting](https://www.washingtonpost.com/graphics/national/police-shootings-year-end/) by an on-duty police officer in the United States. In that time there have been [more than 5,000 such shootings](https://www.washingtonpost.com/nation/2019/08/09/what-weve-learned-about-police-shootings-years-after-ferguson/?arc404=true) recorded by The Post. After [Michael Brown, an unarmed Black man, was killed](https://www.washingtonpost.com/policeshootings/) in 2014 by police in Ferguson, Mo., a Post investigation found that the [FBI undercounted fatal police shootings](https://www.washingtonpost.com/news/post-nation/wp/2014/09/08/how-many-police-shootings-a-year-no-one-knows/) by more than half. This is because reporting by police departments is voluntary and many departments fail to do so. The Washington Post’s data relies primarily on news accounts, social media postings and police reports. Analysis of more than five years of data reveals that the number and circumstances of fatal shootings and the overall demographics of the victims have remained relatively constant...\" [SOURCE ==> Washington Post Article](https://www.washingtonpost.com/graphics/investigations/police-shootings-database/)\n",
    "\n",
    "[For more information about this story](https://www.washingtonpost.com/graphics/investigations/police-shootings-database/)\n",
    "\n",
    "\n",
    "This dataset has been prepared by The Washington Post (they keep updating it on runtime) with every fatal shooting in the United States by a police officer in the line of duty since Jan. 1, 2015.\n",
    "\n",
    "[2016 PoliceKillingUS DATASET](https://www.washingtonpost.com/graphics/national/police-shootings-2016/)<br>\n",
    "[2017 PoliceKillingUS DATASET](https://www.washingtonpost.com/graphics/national/police-shootings-2017/)<br>\n",
    "[2018 PoliceKillingUS DATASET](https://www.washingtonpost.com/graphics/2018/national/police-shootings-2018/)<br>\n",
    "[2019 PoliceKillingUS DATASET](https://www.washingtonpost.com/graphics/2019/national/police-shootings-2019/)<br>\n",
    "[2020 PoliceKillingUS DATASET](https://www.washingtonpost.com/graphics/national/police-shootings-2017/)<br>\n",
    "\n",
    "\n",
    "**In this assignment, you are supposed to do the exercise yourself to see if you can solve it. While solving the tasks if you need to remember some subjects, please repeat inclass materails in the course and udemy course videos if provided to you.**"
   ]
  },
  {
   "cell_type": "markdown",
   "metadata": {},
   "source": [
    "## <p style=\"background-color:#9d4f8c; font-family:newtimeroman; color:#FFF9ED; font-size:150%; text-align:center; border-radius:10px 10px;\">ABOUT THE FEATURES</p>\n",
    "\n",
    "<a id=\"00\"></a>\n",
    "<a href=\"#toc\" class=\"btn btn-primary btn-sm\" role=\"button\" aria-pressed=\"true\" \n",
    "style=\"color:blue; background-color:#dfa8e4\" data-toggle=\"popover\">Content</a>\n",
    "\n",
    "The file fatal-police-shootings-data.csv contains data about each fatal shooting in CSV format. The file can be downloaded at this URL. Each row has the following variables:\n",
    "\n",
    "- **id:** a unique identifier for each victim\n",
    "- **name:** the name of the victim\n",
    "- **date:** the date of the fatal shooting in YYYY-MM-DD format\n",
    "- **manner_of_death:** shot, shot and Tasered\n",
    "- **armed:** indicates that the victim was armed with some sort of implement that a police officer believed could inflict harm\n",
    "    - undetermined: it is not known whether or not the victim had a weapon\n",
    "    - unknown: the victim was armed, but it is not known what the object was\n",
    "    - unarmed: the victim was not armed\n",
    "- **age:** the age of the victim\n",
    "- **gender:** the gender of the victim. The Post identifies victims by the gender they identify with if reports indicate that it differs from their biological sex.\n",
    "    - M: Male\n",
    "    - F: Female\n",
    "    - None: unknown\n",
    "- **race:**\n",
    "    - W: White, non-Hispanic\n",
    "    - B: Black, non-Hispanic\n",
    "    - A: Asian\n",
    "    - N: Native American\n",
    "    - H: Hispanic\n",
    "    - O: Other\n",
    "    - None: unknown\n",
    "- **city:** the municipality where the fatal shooting took place. Note that in some cases this field may contain a county name if a more specific municipality is unavailable or unknown.\n",
    "- **state:** two-letter postal code abbreviation\n",
    "- **signs of mental illness:** News reports have indicated the victim had a history of mental health issues, expressed suicidal intentions or was experiencing mental distress at the time of the shooting.\n",
    "- **threat_level:** The threat_level column was used to flag incidents for the story by Amy Brittain in October 2015. http://www.washingtonpost.com/sf/investigative/2015/10/24/on-duty-under-fire/ As described in the story, the general criteria for the attack label was that there was the most direct and immediate threat to life. That would include incidents where officers or others were shot at, threatened with a gun, attacked with other weapons or physical force, etc. The attack category is meant to flag the highest level of threat. The other and undetermined categories represent all remaining cases. Other includes many incidents where officers or others faced significant threats.\n",
    "- **flee:** News reports have indicated the victim was moving away from officers\n",
    "    - Foot\n",
    "    - Car\n",
    "    - Not fleeing\n",
    "\n",
    "The threat column and the fleeing column are not necessarily related. For example, there is an incident in which the suspect is fleeing and at the same time turns to fire at gun at the officer. Also, attacks represent a status immediately before fatal shots by police while fleeing could begin slightly earlier and involve a chase.\n",
    "- **body_camera:** News reports have indicated an officer was wearing a body camera and it may have recorded some portion of the incident.\n",
    "\n",
    "[SOURCE](https://github.com/washingtonpost/data-police-shootings)"
   ]
  },
  {
   "cell_type": "markdown",
   "metadata": {},
   "source": [
    "## <p style=\"background-color:#9d4f8c; font-family:newtimeroman; color:#FFF9ED; font-size:150%; text-align:center; border-radius:10px 10px;\">IMPORTING LIBRARIES NEEDED IN THIS NOTEBOOK</p>\n",
    "\n",
    "<a id=\"000\"></a>\n",
    "<a href=\"#toc\" class=\"btn btn-primary btn-sm\" role=\"button\" aria-pressed=\"true\" \n",
    "style=\"color:blue; background-color:#dfa8e4\" data-toggle=\"popover\">Content</a>"
   ]
  },
  {
   "cell_type": "code",
   "execution_count": 1,
   "metadata": {
    "_cell_guid": "5fdcd462-5466-40f5-9992-dc31a9a174f2",
    "_uuid": "dab5021d92c7210270cec270470e4ae179a1de01",
    "executionInfo": {
     "elapsed": 774,
     "status": "ok",
     "timestamp": 1634803832760,
     "user": {
      "displayName": "Thomas Rico",
      "photoUrl": "https://lh3.googleusercontent.com/a/default-user=s64",
      "userId": "03459133432310094050"
     },
     "user_tz": -180
    },
    "id": "HC70KTrg2alE"
   },
   "outputs": [
    {
     "name": "stderr",
     "output_type": "stream",
     "text": [
      "/Users/pmzms1/opt/anaconda3/lib/python3.8/site-packages/scipy/__init__.py:138: UserWarning: A NumPy version >=1.16.5 and <1.23.0 is required for this version of SciPy (detected version 1.24.2)\n",
      "  warnings.warn(f\"A NumPy version >={np_minversion} and <{np_maxversion} is required for this version of \"\n"
     ]
    }
   ],
   "source": [
    "import numpy as np \n",
    "import pandas as pd\n",
    "\n",
    "import seaborn as sns\n",
    "import matplotlib.pyplot as plt\n",
    "%matplotlib inline\n",
    "\n",
    "from collections import Counter\n",
    "\n",
    "import warnings\n",
    "warnings.filterwarnings('ignore') "
   ]
  },
  {
   "cell_type": "markdown",
   "metadata": {},
   "source": [
    "## <p style=\"background-color:#9d4f8c; font-family:newtimeroman; color:#FFF9ED; font-size:150%; text-align:center; border-radius:10px 10px;\">INSTRUCTIONS (Tasks in the Assignment)</p>\n",
    "\n",
    "<a id=\"1\"></a>\n",
    "<a href=\"#toc\" class=\"btn btn-primary btn-sm\" role=\"button\" aria-pressed=\"true\" \n",
    "style=\"color:blue; background-color:#dfa8e4\" data-toggle=\"popover\">Content</a>\n",
    "\n",
    "**In this assignment you're required to handle with the following tasks:** \n",
    "\n",
    "- **Task 1.** Using Box and Swarm Plots, plotting Age by Gender in terms of \"Manner of Death\" column of DataFrame named as \"kill\"<br>\n",
    "- **Task 2.** Plotting Most dangerous cities<br>\n",
    "- **Task 3.** Plotting Most dangerous states<br>\n",
    "- **Task 4.** Plotting the killed people having mental illness or not<br>\n",
    "- **Task 5.** Plotting threat types<br>\n",
    "- **Task 6.** Plotting flee types<br>\n",
    "\n",
    "Before diving into the tasks in the assignment, you have to read the dataset. If you have some obatacles while reading the dataset, we recommend you make a research on 🤔 \"how to read the dataset in Pandas\" and 🧐 play with the parameters inside the pandas.read_csv() method. You can use encoding=\"windows-1252\" parameter for reading this dataset.\n",
    "\n",
    "⚠️ In this assignment you are supposed to make some visualizations according to the following questions. So, unless otherwise stated, you do NOT need to follow any Exploratory Data Analysis steps, such as handling missing values & outliers, dropping duplicates, and etc., or apply any Pandas method for preparing the dataset to Machine Learning modelling ⚠️\n",
    "\n",
    "**Now Let us first try to load and read the PoliceKillingsUS dataset. [SOURCE](https://towardsdatascience.com/learn-how-to-read-data-into-a-pandas-dataframe-in-5-minutes-122af8e0b9db) for learning how to read data into a Pandas DataFrame in 5 minutes.** "
   ]
  },
  {
   "cell_type": "code",
   "execution_count": 2,
   "metadata": {
    "_cell_guid": "abb0685f-f844-43f8-84c0-4cd54361c7bf",
    "_uuid": "9c06ed7c41db79ae9d940f2d52aeff23621b3037",
    "executionInfo": {
     "elapsed": 285,
     "status": "ok",
     "timestamp": 1634803836587,
     "user": {
      "displayName": "Thomas Rico",
      "photoUrl": "https://lh3.googleusercontent.com/a/default-user=s64",
      "userId": "03459133432310094050"
     },
     "user_tz": -180
    },
    "id": "o0KjRfoR2alF"
   },
   "outputs": [
    {
     "data": {
      "text/html": [
       "<div>\n",
       "<style scoped>\n",
       "    .dataframe tbody tr th:only-of-type {\n",
       "        vertical-align: middle;\n",
       "    }\n",
       "\n",
       "    .dataframe tbody tr th {\n",
       "        vertical-align: top;\n",
       "    }\n",
       "\n",
       "    .dataframe thead th {\n",
       "        text-align: right;\n",
       "    }\n",
       "</style>\n",
       "<table border=\"1\" class=\"dataframe\">\n",
       "  <thead>\n",
       "    <tr style=\"text-align: right;\">\n",
       "      <th></th>\n",
       "      <th>id</th>\n",
       "      <th>name</th>\n",
       "      <th>date</th>\n",
       "      <th>manner_of_death</th>\n",
       "      <th>armed</th>\n",
       "      <th>age</th>\n",
       "      <th>gender</th>\n",
       "      <th>race</th>\n",
       "      <th>city</th>\n",
       "      <th>state</th>\n",
       "      <th>signs_of_mental_illness</th>\n",
       "      <th>threat_level</th>\n",
       "      <th>flee</th>\n",
       "      <th>body_camera</th>\n",
       "    </tr>\n",
       "  </thead>\n",
       "  <tbody>\n",
       "    <tr>\n",
       "      <th>0</th>\n",
       "      <td>3</td>\n",
       "      <td>Tim Elliot</td>\n",
       "      <td>02/01/15</td>\n",
       "      <td>shot</td>\n",
       "      <td>gun</td>\n",
       "      <td>53.0</td>\n",
       "      <td>M</td>\n",
       "      <td>A</td>\n",
       "      <td>Shelton</td>\n",
       "      <td>WA</td>\n",
       "      <td>True</td>\n",
       "      <td>attack</td>\n",
       "      <td>Not fleeing</td>\n",
       "      <td>False</td>\n",
       "    </tr>\n",
       "    <tr>\n",
       "      <th>1</th>\n",
       "      <td>4</td>\n",
       "      <td>Lewis Lee Lembke</td>\n",
       "      <td>02/01/15</td>\n",
       "      <td>shot</td>\n",
       "      <td>gun</td>\n",
       "      <td>47.0</td>\n",
       "      <td>M</td>\n",
       "      <td>W</td>\n",
       "      <td>Aloha</td>\n",
       "      <td>OR</td>\n",
       "      <td>False</td>\n",
       "      <td>attack</td>\n",
       "      <td>Not fleeing</td>\n",
       "      <td>False</td>\n",
       "    </tr>\n",
       "    <tr>\n",
       "      <th>2</th>\n",
       "      <td>5</td>\n",
       "      <td>John Paul Quintero</td>\n",
       "      <td>03/01/15</td>\n",
       "      <td>shot and Tasered</td>\n",
       "      <td>unarmed</td>\n",
       "      <td>23.0</td>\n",
       "      <td>M</td>\n",
       "      <td>H</td>\n",
       "      <td>Wichita</td>\n",
       "      <td>KS</td>\n",
       "      <td>False</td>\n",
       "      <td>other</td>\n",
       "      <td>Not fleeing</td>\n",
       "      <td>False</td>\n",
       "    </tr>\n",
       "    <tr>\n",
       "      <th>3</th>\n",
       "      <td>8</td>\n",
       "      <td>Matthew Hoffman</td>\n",
       "      <td>04/01/15</td>\n",
       "      <td>shot</td>\n",
       "      <td>toy weapon</td>\n",
       "      <td>32.0</td>\n",
       "      <td>M</td>\n",
       "      <td>W</td>\n",
       "      <td>San Francisco</td>\n",
       "      <td>CA</td>\n",
       "      <td>True</td>\n",
       "      <td>attack</td>\n",
       "      <td>Not fleeing</td>\n",
       "      <td>False</td>\n",
       "    </tr>\n",
       "    <tr>\n",
       "      <th>4</th>\n",
       "      <td>9</td>\n",
       "      <td>Michael Rodriguez</td>\n",
       "      <td>04/01/15</td>\n",
       "      <td>shot</td>\n",
       "      <td>nail gun</td>\n",
       "      <td>39.0</td>\n",
       "      <td>M</td>\n",
       "      <td>H</td>\n",
       "      <td>Evans</td>\n",
       "      <td>CO</td>\n",
       "      <td>False</td>\n",
       "      <td>attack</td>\n",
       "      <td>Not fleeing</td>\n",
       "      <td>False</td>\n",
       "    </tr>\n",
       "  </tbody>\n",
       "</table>\n",
       "</div>"
      ],
      "text/plain": [
       "   id                name      date   manner_of_death       armed   age  \\\n",
       "0   3          Tim Elliot  02/01/15              shot         gun  53.0   \n",
       "1   4    Lewis Lee Lembke  02/01/15              shot         gun  47.0   \n",
       "2   5  John Paul Quintero  03/01/15  shot and Tasered     unarmed  23.0   \n",
       "3   8     Matthew Hoffman  04/01/15              shot  toy weapon  32.0   \n",
       "4   9   Michael Rodriguez  04/01/15              shot    nail gun  39.0   \n",
       "\n",
       "  gender race           city state  signs_of_mental_illness threat_level  \\\n",
       "0      M    A        Shelton    WA                     True       attack   \n",
       "1      M    W          Aloha    OR                    False       attack   \n",
       "2      M    H        Wichita    KS                    False        other   \n",
       "3      M    W  San Francisco    CA                     True       attack   \n",
       "4      M    H          Evans    CO                    False       attack   \n",
       "\n",
       "          flee  body_camera  \n",
       "0  Not fleeing        False  \n",
       "1  Not fleeing        False  \n",
       "2  Not fleeing        False  \n",
       "3  Not fleeing        False  \n",
       "4  Not fleeing        False  "
      ]
     },
     "execution_count": 2,
     "metadata": {},
     "output_type": "execute_result"
    }
   ],
   "source": [
    "# Reading and assigning the data to an object named \"kill\"\n",
    "\n",
    "# YOUR CODE IS HERE\n",
    "\n",
    "kill = pd.read_csv(\"PoliceKillingsUS.csv\", encoding= 'cp1252')\n",
    "\n",
    "kill.head()"
   ]
  },
  {
   "cell_type": "markdown",
   "metadata": {
    "_uuid": "bfb975b648fbcbd1c6cdf1634f01e01371924a8c",
    "id": "olpSFCOo2alG",
    "outputId": "521c8b5e-ce68-4e49-ca71-dc4cdf65cddf"
   },
   "source": [
    "Desired Output:\n",
    "\n",
    "<img src=https://i.ibb.co/bF8hKvn/DV1-1a.png width=\"800\" height=\"200\">  "
   ]
  },
  {
   "cell_type": "code",
   "execution_count": 3,
   "metadata": {},
   "outputs": [
    {
     "data": {
      "text/plain": [
       "(2535, 14)"
      ]
     },
     "execution_count": 3,
     "metadata": {},
     "output_type": "execute_result"
    }
   ],
   "source": [
    "# YOUR CODE IS HERE\n",
    "\n",
    "kill.shape"
   ]
  },
  {
   "cell_type": "raw",
   "metadata": {},
   "source": [
    "Desired Output:\n",
    "\n",
    "(2535, 14)"
   ]
  },
  {
   "cell_type": "code",
   "execution_count": 4,
   "metadata": {},
   "outputs": [
    {
     "data": {
      "text/plain": [
       "id                           0\n",
       "name                         0\n",
       "date                         0\n",
       "manner_of_death              0\n",
       "armed                        9\n",
       "age                         77\n",
       "gender                       0\n",
       "race                       195\n",
       "city                         0\n",
       "state                        0\n",
       "signs_of_mental_illness      0\n",
       "threat_level                 0\n",
       "flee                        65\n",
       "body_camera                  0\n",
       "dtype: int64"
      ]
     },
     "execution_count": 4,
     "metadata": {},
     "output_type": "execute_result"
    }
   ],
   "source": [
    "# YOUR CODE IS HERE\n",
    "\n",
    "kill.isna().sum()"
   ]
  },
  {
   "cell_type": "raw",
   "metadata": {},
   "source": [
    "Desired Output:\n",
    "\n",
    "id                           0\n",
    "name                         0\n",
    "date                         0\n",
    "manner_of_death              0\n",
    "armed                        9\n",
    "age                         77\n",
    "gender                       0\n",
    "race                       195\n",
    "city                         0\n",
    "state                        0\n",
    "signs_of_mental_illness      0\n",
    "threat_level                 0\n",
    "flee                        65\n",
    "body_camera                  0\n",
    "dtype: int64"
   ]
  },
  {
   "cell_type": "code",
   "execution_count": 5,
   "metadata": {},
   "outputs": [],
   "source": [
    "# Let's drop the null values in the dataset\n",
    "\n",
    "# YOUR CODE IS HERE\n",
    "\n",
    "kill.dropna(inplace=True)"
   ]
  },
  {
   "cell_type": "code",
   "execution_count": 6,
   "metadata": {
    "id": "hG8Cb6lT2alH",
    "outputId": "5f025ada-387d-4998-ebdf-9c2dd91b5721"
   },
   "outputs": [
    {
     "data": {
      "text/plain": [
       "(2254, 14)"
      ]
     },
     "execution_count": 6,
     "metadata": {},
     "output_type": "execute_result"
    }
   ],
   "source": [
    "# YOUR CODE IS HERE\n",
    "\n",
    "kill.shape"
   ]
  },
  {
   "cell_type": "raw",
   "metadata": {
    "colab": {
     "base_uri": "https://localhost:8080/"
    },
    "executionInfo": {
     "elapsed": 287,
     "status": "ok",
     "timestamp": 1634803872077,
     "user": {
      "displayName": "Thomas Rico",
      "photoUrl": "https://lh3.googleusercontent.com/a/default-user=s64",
      "userId": "03459133432310094050"
     },
     "user_tz": -180
    },
    "id": "e6SoEPqM5Ujz",
    "outputId": "168bd9fc-094a-4b1f-8c43-d14cef5d02ef"
   },
   "source": [
    "Desired Output:\n",
    "\n",
    "(2254, 14)"
   ]
  },
  {
   "cell_type": "markdown",
   "metadata": {},
   "source": [
    "## <p style=\"background-color:#9d4f8c; font-family:newtimeroman; color:#FFF9ED; font-size:150%; text-align:center; border-radius:10px 10px;\">Task-01: Plot Age by Gender in terms of \"Manner of Death\"</p>\n",
    "\n",
    "<a id=\"2\"></a>\n",
    "<a href=\"#toc\" class=\"btn btn-primary btn-sm\" role=\"button\" aria-pressed=\"true\" \n",
    "style=\"color:blue; background-color:#dfa8e4\" data-toggle=\"popover\">Content</a>"
   ]
  },
  {
   "cell_type": "markdown",
   "metadata": {},
   "source": [
    "### <p style=\"background-color:#9d4f8c; font-family:newtimeroman; color:#FFF9ED; font-size:125%; text-align:left; border-radius:10px 10px;\">1.1 Box plot of age in both genders separeted by manner of death.</p>\n",
    "\n",
    "<a id=\"2.1\"></a>\n",
    "<a href=\"#toc\" class=\"btn btn-primary btn-sm\" role=\"button\" aria-pressed=\"true\" \n",
    "style=\"color:blue; background-color:#dfa8e4\" data-toggle=\"popover\">Content</a>"
   ]
  },
  {
   "cell_type": "code",
   "execution_count": 7,
   "metadata": {},
   "outputs": [
    {
     "data": {
      "text/html": [
       "<div>\n",
       "<style scoped>\n",
       "    .dataframe tbody tr th:only-of-type {\n",
       "        vertical-align: middle;\n",
       "    }\n",
       "\n",
       "    .dataframe tbody tr th {\n",
       "        vertical-align: top;\n",
       "    }\n",
       "\n",
       "    .dataframe thead th {\n",
       "        text-align: right;\n",
       "    }\n",
       "</style>\n",
       "<table border=\"1\" class=\"dataframe\">\n",
       "  <thead>\n",
       "    <tr style=\"text-align: right;\">\n",
       "      <th></th>\n",
       "      <th>id</th>\n",
       "      <th>name</th>\n",
       "      <th>date</th>\n",
       "      <th>manner_of_death</th>\n",
       "      <th>armed</th>\n",
       "      <th>age</th>\n",
       "      <th>gender</th>\n",
       "      <th>race</th>\n",
       "      <th>city</th>\n",
       "      <th>state</th>\n",
       "      <th>signs_of_mental_illness</th>\n",
       "      <th>threat_level</th>\n",
       "      <th>flee</th>\n",
       "      <th>body_camera</th>\n",
       "    </tr>\n",
       "  </thead>\n",
       "  <tbody>\n",
       "    <tr>\n",
       "      <th>0</th>\n",
       "      <td>3</td>\n",
       "      <td>Tim Elliot</td>\n",
       "      <td>02/01/15</td>\n",
       "      <td>shot</td>\n",
       "      <td>gun</td>\n",
       "      <td>53.0</td>\n",
       "      <td>M</td>\n",
       "      <td>A</td>\n",
       "      <td>Shelton</td>\n",
       "      <td>WA</td>\n",
       "      <td>True</td>\n",
       "      <td>attack</td>\n",
       "      <td>Not fleeing</td>\n",
       "      <td>False</td>\n",
       "    </tr>\n",
       "    <tr>\n",
       "      <th>1</th>\n",
       "      <td>4</td>\n",
       "      <td>Lewis Lee Lembke</td>\n",
       "      <td>02/01/15</td>\n",
       "      <td>shot</td>\n",
       "      <td>gun</td>\n",
       "      <td>47.0</td>\n",
       "      <td>M</td>\n",
       "      <td>W</td>\n",
       "      <td>Aloha</td>\n",
       "      <td>OR</td>\n",
       "      <td>False</td>\n",
       "      <td>attack</td>\n",
       "      <td>Not fleeing</td>\n",
       "      <td>False</td>\n",
       "    </tr>\n",
       "    <tr>\n",
       "      <th>2</th>\n",
       "      <td>5</td>\n",
       "      <td>John Paul Quintero</td>\n",
       "      <td>03/01/15</td>\n",
       "      <td>shot and Tasered</td>\n",
       "      <td>unarmed</td>\n",
       "      <td>23.0</td>\n",
       "      <td>M</td>\n",
       "      <td>H</td>\n",
       "      <td>Wichita</td>\n",
       "      <td>KS</td>\n",
       "      <td>False</td>\n",
       "      <td>other</td>\n",
       "      <td>Not fleeing</td>\n",
       "      <td>False</td>\n",
       "    </tr>\n",
       "    <tr>\n",
       "      <th>3</th>\n",
       "      <td>8</td>\n",
       "      <td>Matthew Hoffman</td>\n",
       "      <td>04/01/15</td>\n",
       "      <td>shot</td>\n",
       "      <td>toy weapon</td>\n",
       "      <td>32.0</td>\n",
       "      <td>M</td>\n",
       "      <td>W</td>\n",
       "      <td>San Francisco</td>\n",
       "      <td>CA</td>\n",
       "      <td>True</td>\n",
       "      <td>attack</td>\n",
       "      <td>Not fleeing</td>\n",
       "      <td>False</td>\n",
       "    </tr>\n",
       "    <tr>\n",
       "      <th>4</th>\n",
       "      <td>9</td>\n",
       "      <td>Michael Rodriguez</td>\n",
       "      <td>04/01/15</td>\n",
       "      <td>shot</td>\n",
       "      <td>nail gun</td>\n",
       "      <td>39.0</td>\n",
       "      <td>M</td>\n",
       "      <td>H</td>\n",
       "      <td>Evans</td>\n",
       "      <td>CO</td>\n",
       "      <td>False</td>\n",
       "      <td>attack</td>\n",
       "      <td>Not fleeing</td>\n",
       "      <td>False</td>\n",
       "    </tr>\n",
       "  </tbody>\n",
       "</table>\n",
       "</div>"
      ],
      "text/plain": [
       "   id                name      date   manner_of_death       armed   age  \\\n",
       "0   3          Tim Elliot  02/01/15              shot         gun  53.0   \n",
       "1   4    Lewis Lee Lembke  02/01/15              shot         gun  47.0   \n",
       "2   5  John Paul Quintero  03/01/15  shot and Tasered     unarmed  23.0   \n",
       "3   8     Matthew Hoffman  04/01/15              shot  toy weapon  32.0   \n",
       "4   9   Michael Rodriguez  04/01/15              shot    nail gun  39.0   \n",
       "\n",
       "  gender race           city state  signs_of_mental_illness threat_level  \\\n",
       "0      M    A        Shelton    WA                     True       attack   \n",
       "1      M    W          Aloha    OR                    False       attack   \n",
       "2      M    H        Wichita    KS                    False        other   \n",
       "3      M    W  San Francisco    CA                     True       attack   \n",
       "4      M    H          Evans    CO                    False       attack   \n",
       "\n",
       "          flee  body_camera  \n",
       "0  Not fleeing        False  \n",
       "1  Not fleeing        False  \n",
       "2  Not fleeing        False  \n",
       "3  Not fleeing        False  \n",
       "4  Not fleeing        False  "
      ]
     },
     "execution_count": 7,
     "metadata": {},
     "output_type": "execute_result"
    }
   ],
   "source": [
    "# YOUR CODE IS HERE\n",
    "\n",
    "kill.head()"
   ]
  },
  {
   "cell_type": "markdown",
   "metadata": {},
   "source": [
    "Desired Output:\n",
    "\n",
    "<img src=https://i.ibb.co/bF8hKvn/DV1-1a.png width=\"800\" height=\"200\">  "
   ]
  },
  {
   "cell_type": "code",
   "execution_count": 8,
   "metadata": {},
   "outputs": [
    {
     "data": {
      "text/html": [
       "<div>\n",
       "<style scoped>\n",
       "    .dataframe tbody tr th:only-of-type {\n",
       "        vertical-align: middle;\n",
       "    }\n",
       "\n",
       "    .dataframe tbody tr th {\n",
       "        vertical-align: top;\n",
       "    }\n",
       "\n",
       "    .dataframe thead th {\n",
       "        text-align: right;\n",
       "    }\n",
       "</style>\n",
       "<table border=\"1\" class=\"dataframe\">\n",
       "  <thead>\n",
       "    <tr style=\"text-align: right;\">\n",
       "      <th></th>\n",
       "      <th>id</th>\n",
       "      <th>name</th>\n",
       "      <th>date</th>\n",
       "      <th>manner_of_death</th>\n",
       "      <th>armed</th>\n",
       "      <th>age</th>\n",
       "      <th>gender</th>\n",
       "      <th>race</th>\n",
       "      <th>city</th>\n",
       "      <th>state</th>\n",
       "      <th>signs_of_mental_illness</th>\n",
       "      <th>threat_level</th>\n",
       "      <th>flee</th>\n",
       "      <th>body_camera</th>\n",
       "    </tr>\n",
       "  </thead>\n",
       "  <tbody>\n",
       "    <tr>\n",
       "      <th>1350</th>\n",
       "      <td>1539</td>\n",
       "      <td>Robert Mark Diaz</td>\n",
       "      <td>13/05/16</td>\n",
       "      <td>shot</td>\n",
       "      <td>gun</td>\n",
       "      <td>28.0</td>\n",
       "      <td>M</td>\n",
       "      <td>H</td>\n",
       "      <td>Boyle Heights</td>\n",
       "      <td>CA</td>\n",
       "      <td>False</td>\n",
       "      <td>attack</td>\n",
       "      <td>Not fleeing</td>\n",
       "      <td>True</td>\n",
       "    </tr>\n",
       "    <tr>\n",
       "      <th>927</th>\n",
       "      <td>1073</td>\n",
       "      <td>Thomas Arthur Gendreau</td>\n",
       "      <td>10/12/15</td>\n",
       "      <td>shot</td>\n",
       "      <td>knife</td>\n",
       "      <td>54.0</td>\n",
       "      <td>M</td>\n",
       "      <td>W</td>\n",
       "      <td>Marina</td>\n",
       "      <td>CA</td>\n",
       "      <td>False</td>\n",
       "      <td>attack</td>\n",
       "      <td>Not fleeing</td>\n",
       "      <td>False</td>\n",
       "    </tr>\n",
       "    <tr>\n",
       "      <th>1088</th>\n",
       "      <td>1239</td>\n",
       "      <td>Marese V. Collins</td>\n",
       "      <td>07/02/16</td>\n",
       "      <td>shot</td>\n",
       "      <td>gun</td>\n",
       "      <td>23.0</td>\n",
       "      <td>M</td>\n",
       "      <td>B</td>\n",
       "      <td>Columbus</td>\n",
       "      <td>OH</td>\n",
       "      <td>False</td>\n",
       "      <td>other</td>\n",
       "      <td>Other</td>\n",
       "      <td>False</td>\n",
       "    </tr>\n",
       "    <tr>\n",
       "      <th>30</th>\n",
       "      <td>54</td>\n",
       "      <td>Robert Edwards</td>\n",
       "      <td>14/01/15</td>\n",
       "      <td>shot</td>\n",
       "      <td>gun</td>\n",
       "      <td>68.0</td>\n",
       "      <td>M</td>\n",
       "      <td>W</td>\n",
       "      <td>Lake Jackson</td>\n",
       "      <td>TX</td>\n",
       "      <td>False</td>\n",
       "      <td>attack</td>\n",
       "      <td>Not fleeing</td>\n",
       "      <td>False</td>\n",
       "    </tr>\n",
       "    <tr>\n",
       "      <th>1733</th>\n",
       "      <td>1945</td>\n",
       "      <td>Joseph S. Schroeder</td>\n",
       "      <td>07/10/16</td>\n",
       "      <td>shot</td>\n",
       "      <td>knife</td>\n",
       "      <td>36.0</td>\n",
       "      <td>M</td>\n",
       "      <td>W</td>\n",
       "      <td>Fort Wayne</td>\n",
       "      <td>IN</td>\n",
       "      <td>False</td>\n",
       "      <td>other</td>\n",
       "      <td>Not fleeing</td>\n",
       "      <td>False</td>\n",
       "    </tr>\n",
       "    <tr>\n",
       "      <th>1116</th>\n",
       "      <td>1275</td>\n",
       "      <td>Christopher Andrews</td>\n",
       "      <td>16/02/16</td>\n",
       "      <td>shot</td>\n",
       "      <td>knife</td>\n",
       "      <td>51.0</td>\n",
       "      <td>M</td>\n",
       "      <td>W</td>\n",
       "      <td>Fairfield</td>\n",
       "      <td>CT</td>\n",
       "      <td>True</td>\n",
       "      <td>other</td>\n",
       "      <td>Not fleeing</td>\n",
       "      <td>False</td>\n",
       "    </tr>\n",
       "    <tr>\n",
       "      <th>1443</th>\n",
       "      <td>1633</td>\n",
       "      <td>William Thomas Hennessey</td>\n",
       "      <td>18/06/16</td>\n",
       "      <td>shot</td>\n",
       "      <td>toy weapon</td>\n",
       "      <td>34.0</td>\n",
       "      <td>M</td>\n",
       "      <td>W</td>\n",
       "      <td>Huntsville</td>\n",
       "      <td>AL</td>\n",
       "      <td>False</td>\n",
       "      <td>attack</td>\n",
       "      <td>Not fleeing</td>\n",
       "      <td>True</td>\n",
       "    </tr>\n",
       "    <tr>\n",
       "      <th>308</th>\n",
       "      <td>402</td>\n",
       "      <td>Mark Cecil Hawkins</td>\n",
       "      <td>24/04/15</td>\n",
       "      <td>shot</td>\n",
       "      <td>gun</td>\n",
       "      <td>49.0</td>\n",
       "      <td>M</td>\n",
       "      <td>W</td>\n",
       "      <td>Eugene</td>\n",
       "      <td>OR</td>\n",
       "      <td>False</td>\n",
       "      <td>attack</td>\n",
       "      <td>Not fleeing</td>\n",
       "      <td>False</td>\n",
       "    </tr>\n",
       "    <tr>\n",
       "      <th>136</th>\n",
       "      <td>176</td>\n",
       "      <td>A'Donte Washington</td>\n",
       "      <td>23/02/15</td>\n",
       "      <td>shot</td>\n",
       "      <td>gun</td>\n",
       "      <td>16.0</td>\n",
       "      <td>M</td>\n",
       "      <td>B</td>\n",
       "      <td>Millbrook</td>\n",
       "      <td>AL</td>\n",
       "      <td>False</td>\n",
       "      <td>attack</td>\n",
       "      <td>Not fleeing</td>\n",
       "      <td>False</td>\n",
       "    </tr>\n",
       "    <tr>\n",
       "      <th>480</th>\n",
       "      <td>593</td>\n",
       "      <td>Michael Holt</td>\n",
       "      <td>05/07/15</td>\n",
       "      <td>shot</td>\n",
       "      <td>gun</td>\n",
       "      <td>35.0</td>\n",
       "      <td>M</td>\n",
       "      <td>W</td>\n",
       "      <td>Austin</td>\n",
       "      <td>TX</td>\n",
       "      <td>False</td>\n",
       "      <td>attack</td>\n",
       "      <td>Foot</td>\n",
       "      <td>False</td>\n",
       "    </tr>\n",
       "  </tbody>\n",
       "</table>\n",
       "</div>"
      ],
      "text/plain": [
       "        id                      name      date manner_of_death       armed  \\\n",
       "1350  1539          Robert Mark Diaz  13/05/16            shot         gun   \n",
       "927   1073    Thomas Arthur Gendreau  10/12/15            shot       knife   \n",
       "1088  1239         Marese V. Collins  07/02/16            shot         gun   \n",
       "30      54            Robert Edwards  14/01/15            shot         gun   \n",
       "1733  1945       Joseph S. Schroeder  07/10/16            shot       knife   \n",
       "1116  1275       Christopher Andrews  16/02/16            shot       knife   \n",
       "1443  1633  William Thomas Hennessey  18/06/16            shot  toy weapon   \n",
       "308    402        Mark Cecil Hawkins  24/04/15            shot         gun   \n",
       "136    176        A'Donte Washington  23/02/15            shot         gun   \n",
       "480    593              Michael Holt  05/07/15            shot         gun   \n",
       "\n",
       "       age gender race           city state  signs_of_mental_illness  \\\n",
       "1350  28.0      M    H  Boyle Heights    CA                    False   \n",
       "927   54.0      M    W         Marina    CA                    False   \n",
       "1088  23.0      M    B       Columbus    OH                    False   \n",
       "30    68.0      M    W   Lake Jackson    TX                    False   \n",
       "1733  36.0      M    W     Fort Wayne    IN                    False   \n",
       "1116  51.0      M    W      Fairfield    CT                     True   \n",
       "1443  34.0      M    W     Huntsville    AL                    False   \n",
       "308   49.0      M    W         Eugene    OR                    False   \n",
       "136   16.0      M    B      Millbrook    AL                    False   \n",
       "480   35.0      M    W         Austin    TX                    False   \n",
       "\n",
       "     threat_level         flee  body_camera  \n",
       "1350       attack  Not fleeing         True  \n",
       "927        attack  Not fleeing        False  \n",
       "1088        other        Other        False  \n",
       "30         attack  Not fleeing        False  \n",
       "1733        other  Not fleeing        False  \n",
       "1116        other  Not fleeing        False  \n",
       "1443       attack  Not fleeing         True  \n",
       "308        attack  Not fleeing        False  \n",
       "136        attack  Not fleeing        False  \n",
       "480        attack         Foot        False  "
      ]
     },
     "execution_count": 8,
     "metadata": {},
     "output_type": "execute_result"
    }
   ],
   "source": [
    "# Be noticed that your output may be different from the one below\n",
    "\n",
    "# YOUR CODE IS HERE\n",
    "kill[kill[\"manner_of_death\"] == \"shot\"].sample(10)"
   ]
  },
  {
   "cell_type": "markdown",
   "metadata": {},
   "source": [
    "Desired Output:\n",
    "\n",
    "<img src=https://i.ibb.co/cY90CMv/DV2-1a.png width=\"700\" height=\"200\">  "
   ]
  },
  {
   "cell_type": "code",
   "execution_count": 9,
   "metadata": {},
   "outputs": [
    {
     "data": {
      "text/plain": [
       "array(['shot', 'shot and Tasered'], dtype=object)"
      ]
     },
     "execution_count": 9,
     "metadata": {},
     "output_type": "execute_result"
    }
   ],
   "source": [
    "# YOUR CODE IS HERE\n",
    "kill[\"manner_of_death\"].unique()\n"
   ]
  },
  {
   "cell_type": "raw",
   "metadata": {},
   "source": [
    "Desired Output:\n",
    "\n",
    "array(['shot', 'shot and Tasered'], dtype=object)"
   ]
  },
  {
   "cell_type": "markdown",
   "metadata": {
    "id": "kAN1jKeE2alO"
   },
   "source": [
    "**INSTRUCTION: Demonstrate the Qurtiles of age in both genders separeted by manner of death.**"
   ]
  },
  {
   "cell_type": "code",
   "execution_count": 10,
   "metadata": {},
   "outputs": [
    {
     "data": {
      "image/png": "[encoded data removed]",
      "text/plain": [
       "<Figure size 576x360 with 1 Axes>"
      ]
     },
     "metadata": {
      "needs_background": "light"
     },
     "output_type": "display_data"
    }
   ],
   "source": [
    "# With Seaborn Boxplot\n",
    "\n",
    "# YOUR CODE IS HERE\n",
    "\n",
    "plt.figure(figsize=(8, 5))\n",
    "sns.boxplot(x = \"gender\", y = \"age\", data = kill, hue = \"manner_of_death\")\n",
    "plt.legend(bbox_to_anchor=(1.05, .85), loc=3);\n"
   ]
  },
  {
   "cell_type": "markdown",
   "metadata": {},
   "source": [
    "Desired Output:\n",
    "\n",
    "<img src=https://i.ibb.co/yFZXX8J/DV2-1b.png width=\"700\" height=\"200\">  "
   ]
  },
  {
   "cell_type": "markdown",
   "metadata": {
    "_uuid": "9b3ff5b459aa93bbce95ba93f6939708473ef040",
    "id": "KXtWPEIy2alO"
   },
   "source": [
    "### <p style=\"background-color:#9d4f8c; font-family:newtimeroman; color:#FFF9ED; font-size:125%; text-align:left; border-radius:10px 10px;\">1.2 Swarm Plot of age in both genders separeted by manner of death.</p>\n",
    "\n",
    "<a id=\"2.2\"></a>\n",
    "<a href=\"#toc\" class=\"btn btn-primary btn-sm\" role=\"button\" aria-pressed=\"true\" \n",
    "style=\"color:blue; background-color:#dfa8e4\" data-toggle=\"popover\">Content</a>"
   ]
  },
  {
   "cell_type": "markdown",
   "metadata": {
    "id": "lDAkV5tK2alO"
   },
   "source": [
    "**INSTRUCTION: Demonstrate the age in both genders separeted by manner of death by a swarm plot.**"
   ]
  },
  {
   "cell_type": "code",
   "execution_count": 11,
   "metadata": {},
   "outputs": [
    {
     "data": {
      "image/png": "[encoded data removed]",
      "text/plain": [
       "<Figure size 864x432 with 1 Axes>"
      ]
     },
     "metadata": {
      "needs_background": "light"
     },
     "output_type": "display_data"
    }
   ],
   "source": [
    "# With Seaborn Swarmplot\n",
    "\n",
    "# YOUR CODE IS HERE\n",
    "plt.figure(figsize=(12, 6))\n",
    "sns.swarmplot(x = \"gender\", y = \"age\", data = kill, hue = \"manner_of_death\", dodge=False);\n",
    "\n"
   ]
  },
  {
   "cell_type": "markdown",
   "metadata": {},
   "source": [
    "Desired Output:\n",
    "\n",
    "<img src=https://i.ibb.co/w4fg9WR/DV2-1c.png width=\"600\" height=\"200\">  "
   ]
  },
  {
   "cell_type": "markdown",
   "metadata": {
    "id": "PjDifPQ82alT"
   },
   "source": [
    "## <p style=\"background-color:#9d4f8c; font-family:newtimeroman; color:#FFF9ED; font-size:150%; text-align:center; border-radius:10px 10px;\">Task-02: Plot Most Dangerous Cities</p>\n",
    "\n",
    "<a id=\"3\"></a>\n",
    "<a href=\"#toc\" class=\"btn btn-primary btn-sm\" role=\"button\" aria-pressed=\"true\" \n",
    "style=\"color:blue; background-color:#dfa8e4\" data-toggle=\"popover\">Content</a>"
   ]
  },
  {
   "cell_type": "code",
   "execution_count": 12,
   "metadata": {},
   "outputs": [
    {
     "data": {
      "text/plain": [
       "Los Angeles     35\n",
       "Phoenix         28\n",
       "Houston         24\n",
       "Chicago         22\n",
       "Austin          18\n",
       "Las Vegas       17\n",
       "Columbus        16\n",
       "Miami           15\n",
       "San Antonio     15\n",
       "Indianapolis    14\n",
       "St. Louis       14\n",
       "Bakersfield     13\n",
       "Name: city, dtype: int64"
      ]
     },
     "execution_count": 12,
     "metadata": {},
     "output_type": "execute_result"
    }
   ],
   "source": [
    "# YOUR CODE IS HERE\n",
    "\n",
    "kill.city.value_counts()[:12]"
   ]
  },
  {
   "cell_type": "raw",
   "metadata": {},
   "source": [
    "Desired Output:\n",
    "\n",
    "Los Angeles     35\n",
    "Phoenix         28\n",
    "Houston         24\n",
    "Chicago         22\n",
    "Austin          18\n",
    "Las Vegas       17\n",
    "Columbus        16\n",
    "Miami           15\n",
    "San Antonio     15\n",
    "Indianapolis    14\n",
    "St. Louis       14\n",
    "Bakersfield     13\n",
    "Name: city, dtype: int64"
   ]
  },
  {
   "cell_type": "code",
   "execution_count": 13,
   "metadata": {},
   "outputs": [
    {
     "data": {
      "text/plain": [
       "Text(0.5, 1.0, 'Most dangerous cities')"
      ]
     },
     "execution_count": 13,
     "metadata": {},
     "output_type": "execute_result"
    },
    {
     "data": {
      "image/png": "[encoded data removed]",
      "text/plain": [
       "<Figure size 576x432 with 1 Axes>"
      ]
     },
     "metadata": {
      "needs_background": "light"
     },
     "output_type": "display_data"
    }
   ],
   "source": [
    "# With Seaborn Barplot\n",
    "\n",
    "# YOUR CODE IS HERE\n",
    "\n",
    "ser_mostdanger = kill.city.value_counts()[:12]\n",
    "\n",
    "plt.figure(figsize=(8, 6))\n",
    "\n",
    "ax = sns.barplot(x=ser_mostdanger.index, y=ser_mostdanger.values);\n",
    "\n",
    "ax.bar_label(ax.containers[0]);\n",
    "ax.set_xticklabels(ser_mostdanger.index, rotation=45)\n",
    "# ax.set(title='Most dangerous cities'); #seaborn axis setting does not have color option\n",
    "#?ax.set\n",
    "plt.title('Most dangerous cities',color = \"blue\", fontsize=12, fontweight=\"bold\")\n",
    "\n"
   ]
  },
  {
   "cell_type": "markdown",
   "metadata": {},
   "source": [
    "Desired Output:\n",
    "\n",
    "<img src=https://i.ibb.co/Ctxg6HF/DV2-2a.png width=\"500\" height=\"200\">  "
   ]
  },
  {
   "cell_type": "code",
   "execution_count": 14,
   "metadata": {},
   "outputs": [
    {
     "data": {
      "image/png": "[encoded data removed]",
      "text/plain": [
       "<Figure size 576x432 with 1 Axes>"
      ]
     },
     "metadata": {
      "needs_background": "light"
     },
     "output_type": "display_data"
    }
   ],
   "source": [
    "# With Seaborn Countplot\n",
    "\n",
    "# YOUR CODE IS HERE\n",
    "plt.figure(figsize=(8, 6))\n",
    "countplot = sns.countplot(x=kill[\"city\"],data=kill, order=kill.city.value_counts().iloc[:12].index)\n",
    "countplot.bar_label(countplot.containers[0]);\n",
    "countplot.set_xticklabels(kill.city.value_counts().iloc[:12].index, rotation=45);\n",
    "# ax.set(title='Most dangerous cities'); #seaborn axis setting does not have color option\n",
    "#?ax.set\n",
    "plt.title('Most dangerous cities',color = \"blue\", fontsize=12, fontweight=\"bold\");"
   ]
  },
  {
   "cell_type": "markdown",
   "metadata": {},
   "source": [
    "Desired Output:\n",
    "\n",
    "<img src=https://i.ibb.co/SysLN7P/DV2-2b.png width=\"500\" height=\"200\">  "
   ]
  },
  {
   "cell_type": "markdown",
   "metadata": {
    "id": "fRkQXetu2alU"
   },
   "source": [
    "## <p style=\"background-color:#9d4f8c; font-family:newtimeroman; color:#FFF9ED; font-size:150%; text-align:center; border-radius:10px 10px;\">Task-03: Plot 20 Most Dangerous States</p>\n",
    "\n",
    "<a id=\"4\"></a>\n",
    "<a href=\"#toc\" class=\"btn btn-primary btn-sm\" role=\"button\" aria-pressed=\"true\" \n",
    "style=\"color:blue; background-color:#dfa8e4\" data-toggle=\"popover\">Content</a>"
   ]
  },
  {
   "cell_type": "code",
   "execution_count": 15,
   "metadata": {},
   "outputs": [
    {
     "data": {
      "text/plain": [
       "CA    366\n",
       "TX    200\n",
       "FL    136\n",
       "AZ    105\n",
       "OH     70\n",
       "NC     66\n",
       "OK     65\n",
       "CO     63\n",
       "GA     61\n",
       "MO     58\n",
       "TN     56\n",
       "IL     56\n",
       "WA     51\n",
       "LA     47\n",
       "AL     45\n",
       "PA     45\n",
       "NY     43\n",
       "VA     43\n",
       "WI     42\n",
       "NM     41\n",
       "Name: state, dtype: int64"
      ]
     },
     "execution_count": 15,
     "metadata": {},
     "output_type": "execute_result"
    }
   ],
   "source": [
    "# YOUR CODE IS HERE\n",
    "\n",
    "kill.state.value_counts().head(20)\n",
    "#kill.state.value_counts().iloc[:20]"
   ]
  },
  {
   "cell_type": "raw",
   "metadata": {},
   "source": [
    "Desired Output:\n",
    "\n",
    "CA    366\n",
    "TX    200\n",
    "FL    136\n",
    "AZ    105\n",
    "OH     70\n",
    "NC     66\n",
    "OK     65\n",
    "CO     63\n",
    "GA     61\n",
    "MO     58\n",
    "TN     56\n",
    "IL     56\n",
    "WA     51\n",
    "LA     47\n",
    "AL     45\n",
    "PA     45\n",
    "NY     43\n",
    "VA     43\n",
    "WI     42\n",
    "NM     41\n",
    "Name: state, dtype: int64"
   ]
  },
  {
   "cell_type": "code",
   "execution_count": 16,
   "metadata": {},
   "outputs": [
    {
     "data": {
      "image/png": "[encoded data removed]",
      "text/plain": [
       "<Figure size 720x432 with 1 Axes>"
      ]
     },
     "metadata": {
      "needs_background": "light"
     },
     "output_type": "display_data"
    }
   ],
   "source": [
    "# With Seaborn Barplot\n",
    "\n",
    "# YOUR CODE IS HERE\n",
    "\n",
    "\n",
    "plt.figure(figsize=(10, 6))\n",
    "\n",
    "ax = sns.barplot(x=kill.state.value_counts().head(20).index, y=kill.state.value_counts().head(20).values);\n",
    "\n",
    "ax.bar_label(ax.containers[0]);\n",
    "ax.set_xticklabels(kill.state.value_counts().head(20).index, rotation=45)\n",
    "# ax.set(title='Most Dangerous States'); #seaborn axis setting does not have color option\n",
    "#?ax.set\n",
    "plt.title('Most Dangerous States',color = \"blue\", fontsize=12, fontweight=\"bold\");\n",
    "\n",
    "\n",
    "\n",
    "\n"
   ]
  },
  {
   "cell_type": "markdown",
   "metadata": {},
   "source": [
    "Desired Output:\n",
    "\n",
    "<img src=https://i.ibb.co/51dP6Rf/DV3-3a.png width=\"550\" height=\"200\">  "
   ]
  },
  {
   "cell_type": "code",
   "execution_count": 17,
   "metadata": {},
   "outputs": [
    {
     "data": {
      "image/png": "[encoded data removed]",
      "text/plain": [
       "<Figure size 720x432 with 1 Axes>"
      ]
     },
     "metadata": {
      "needs_background": "light"
     },
     "output_type": "display_data"
    }
   ],
   "source": [
    "# With Seaborn Countplot\n",
    "\n",
    "# YOUR CODE IS HERE\n",
    "\n",
    "\n",
    "plt.figure(figsize=(10, 6))\n",
    "countplot = sns.countplot(x=kill[\"state\"],data=kill, order=kill.state.value_counts().iloc[:20].index)\n",
    "countplot.bar_label(countplot.containers[0]);\n",
    "countplot.set_xticklabels(kill.state.value_counts().iloc[:20].index, rotation=45);\n",
    "# ax.set(title='Most Dangerous States'); #seaborn axis setting does not have color option\n",
    "#?ax.set\n",
    "plt.title('Most Dangerous States',color = \"blue\", fontsize=12, fontweight=\"bold\");\n",
    "\n",
    "\n"
   ]
  },
  {
   "cell_type": "markdown",
   "metadata": {},
   "source": [
    "Desired Output:\n",
    "\n",
    "<img src=https://i.ibb.co/4MJMf4J/DV3-3b.png width=\"550\" height=\"200\">  "
   ]
  },
  {
   "cell_type": "markdown",
   "metadata": {
    "id": "pMtlcHaS2alU"
   },
   "source": [
    "## <p style=\"background-color:#9d4f8c; font-family:newtimeroman; color:#FFF9ED; font-size:150%; text-align:center; border-radius:10px 10px;\">Task-04: Plot the Killed People Having Mental-Illness or Not</p>\n",
    "\n",
    "<a id=\"5\"></a>\n",
    "<a href=\"#toc\" class=\"btn btn-primary btn-sm\" role=\"button\" aria-pressed=\"true\" \n",
    "style=\"color:blue; background-color:#dfa8e4\" data-toggle=\"popover\">Content</a>"
   ]
  },
  {
   "cell_type": "code",
   "execution_count": 18,
   "metadata": {},
   "outputs": [
    {
     "data": {
      "text/plain": [
       "False    1681\n",
       "True      573\n",
       "Name: signs_of_mental_illness, dtype: int64"
      ]
     },
     "execution_count": 18,
     "metadata": {},
     "output_type": "execute_result"
    }
   ],
   "source": [
    "# YOUR CODE IS HERE\n",
    "\n",
    "kill.signs_of_mental_illness.value_counts()"
   ]
  },
  {
   "cell_type": "raw",
   "metadata": {},
   "source": [
    "Desired Output:\n",
    "\n",
    "False    1681\n",
    "True      573\n",
    "Name: signs_of_mental_illness, dtype: int64"
   ]
  },
  {
   "cell_type": "code",
   "execution_count": 19,
   "metadata": {},
   "outputs": [
    {
     "data": {
      "image/png": "[encoded data removed]",
      "text/plain": [
       "<Figure size 576x432 with 1 Axes>"
      ]
     },
     "metadata": {
      "needs_background": "light"
     },
     "output_type": "display_data"
    }
   ],
   "source": [
    "# With Seaborn Barplot\n",
    "\n",
    "# YOUR CODE IS HERE\n",
    "\n",
    "\n",
    "plt.figure(figsize=(8, 6))\n",
    "ax = sns.barplot(x=kill.signs_of_mental_illness.value_counts().index, y=kill.signs_of_mental_illness.value_counts().values);\n",
    "\n",
    "ax.bar_label(ax.containers[0]);\n",
    "ax.set_xticklabels(kill.signs_of_mental_illness.value_counts().index, rotation=0);\n",
    "ax.set_ylabel('counts');\n",
    "ax.set_xlabel('signs_of_mental_illness');"
   ]
  },
  {
   "cell_type": "markdown",
   "metadata": {},
   "source": [
    "Desired Output:\n",
    "\n",
    "<img src=https://i.ibb.co/FWWBXVW/DV2-4a.png width=\"500\" height=\"200\">  "
   ]
  },
  {
   "cell_type": "code",
   "execution_count": 20,
   "metadata": {},
   "outputs": [
    {
     "data": {
      "image/png": "[encoded data removed]",
      "text/plain": [
       "<Figure size 576x432 with 1 Axes>"
      ]
     },
     "metadata": {
      "needs_background": "light"
     },
     "output_type": "display_data"
    }
   ],
   "source": [
    "# With Seaborn Countplot\n",
    "\n",
    "# YOUR CODE IS HERE\n",
    "\n",
    "plt.figure(figsize=(8, 6))\n",
    "countplot = sns.countplot(x=\"signs_of_mental_illness\",data=kill);\n",
    "countplot.bar_label(countplot.containers[0],rotation=45, fmt= '%0.2f');\n",
    "countplot.set(ylim=(0, 1900));\n"
   ]
  },
  {
   "cell_type": "markdown",
   "metadata": {},
   "source": [
    "Desired Output:\n",
    "\n",
    "<img src=https://i.ibb.co/tPCCzG6/DV2-4b.png width=\"500\" height=\"200\">  "
   ]
  },
  {
   "cell_type": "markdown",
   "metadata": {
    "id": "6tVp5fRT2alV"
   },
   "source": [
    "## <p style=\"background-color:#9d4f8c; font-family:newtimeroman; color:#FFF9ED; font-size:150%; text-align:center; border-radius:10px 10px;\">Task-05: Plot the Number of Threat Types</p>\n",
    "\n",
    "<a id=\"6\"></a>\n",
    "<a href=\"#toc\" class=\"btn btn-primary btn-sm\" role=\"button\" aria-pressed=\"true\" \n",
    "style=\"color:blue; background-color:#dfa8e4\" data-toggle=\"popover\">Content</a>"
   ]
  },
  {
   "cell_type": "code",
   "execution_count": 21,
   "metadata": {},
   "outputs": [
    {
     "data": {
      "text/plain": [
       "attack          1462\n",
       "other            677\n",
       "undetermined     115\n",
       "Name: threat_level, dtype: int64"
      ]
     },
     "execution_count": 21,
     "metadata": {},
     "output_type": "execute_result"
    }
   ],
   "source": [
    "# YOUR CODE IS HERE\n",
    "\n",
    "kill.threat_level.value_counts()\n"
   ]
  },
  {
   "cell_type": "raw",
   "metadata": {},
   "source": [
    "Desired Output:\n",
    "\n",
    "attack          1462\n",
    "other            677\n",
    "undetermined     115\n",
    "Name: threat_level, dtype: int64"
   ]
  },
  {
   "cell_type": "code",
   "execution_count": 22,
   "metadata": {},
   "outputs": [
    {
     "data": {
      "image/png": "[encoded data removed]",
      "text/plain": [
       "<Figure size 576x432 with 1 Axes>"
      ]
     },
     "metadata": {
      "needs_background": "light"
     },
     "output_type": "display_data"
    }
   ],
   "source": [
    "# With Seaborn Barplot\n",
    "\n",
    "# YOUR CODE IS HERE\n",
    "plt.figure(figsize = (8,6))\n",
    "axbar = sns.barplot(x = kill.threat_level.value_counts().index,y = kill.threat_level.value_counts().values, data=kill);\n",
    "axbar.bar_label(axbar.containers[0]);\n",
    "axbar.set_ylabel('count');\n",
    "axbar.set_xlabel('threat_level');\n"
   ]
  },
  {
   "cell_type": "markdown",
   "metadata": {},
   "source": [
    "Desired Output:\n",
    "\n",
    "<img src=https://i.ibb.co/3mCnNtg/DV2-5a.png width=\"500\" height=\"200\">  "
   ]
  },
  {
   "cell_type": "code",
   "execution_count": 23,
   "metadata": {},
   "outputs": [
    {
     "data": {
      "image/png": "[encoded data removed]",
      "text/plain": [
       "<Figure size 576x432 with 1 Axes>"
      ]
     },
     "metadata": {
      "needs_background": "light"
     },
     "output_type": "display_data"
    }
   ],
   "source": [
    "# With Seaborn Countplot\n",
    "\n",
    "# YOUR CODE IS HERE\n",
    "\n",
    "\n",
    "plt.figure(figsize=(8, 6))\n",
    "countplot = sns.countplot(x=\"threat_level\",data=kill);\n",
    "countplot.bar_label(countplot.containers[0]);\n"
   ]
  },
  {
   "cell_type": "markdown",
   "metadata": {},
   "source": [
    "Desired Output:\n",
    "\n",
    "<img src=https://i.ibb.co/sFQx6CY/DV2-5b.png width=\"500\" height=\"200\">  "
   ]
  },
  {
   "cell_type": "markdown",
   "metadata": {
    "id": "LfPMzBjF2alV"
   },
   "source": [
    "## <p style=\"background-color:#9d4f8c; font-family:newtimeroman; color:#FFF9ED; font-size:150%; text-align:center; border-radius:10px 10px;\">Task-06: Plot the Number of Flee Types</p>\n",
    "\n",
    "<a id=\"7\"></a>\n",
    "<a href=\"#toc\" class=\"btn btn-primary btn-sm\" role=\"button\" aria-pressed=\"true\" \n",
    "style=\"color:blue; background-color:#dfa8e4\" data-toggle=\"popover\">Content</a>"
   ]
  },
  {
   "cell_type": "code",
   "execution_count": 24,
   "metadata": {},
   "outputs": [
    {
     "data": {
      "text/plain": [
       "Not fleeing    1528\n",
       "Car             360\n",
       "Foot            278\n",
       "Other            88\n",
       "Name: flee, dtype: int64"
      ]
     },
     "execution_count": 24,
     "metadata": {},
     "output_type": "execute_result"
    }
   ],
   "source": [
    "# YOUR CODE IS HERE\n",
    "\n",
    "kill.flee.value_counts()"
   ]
  },
  {
   "cell_type": "raw",
   "metadata": {},
   "source": [
    "Desired Output:\n",
    "\n",
    "Not fleeing    1528\n",
    "Car             360\n",
    "Foot            278\n",
    "Other            88\n",
    "Name: flee, dtype: int64"
   ]
  },
  {
   "cell_type": "code",
   "execution_count": 25,
   "metadata": {},
   "outputs": [
    {
     "data": {
      "image/png": "[encoded data removed]",
      "text/plain": [
       "<Figure size 576x432 with 1 Axes>"
      ]
     },
     "metadata": {
      "needs_background": "light"
     },
     "output_type": "display_data"
    }
   ],
   "source": [
    "# With Seaborn Barplot\n",
    "\n",
    "# YOUR CODE IS HERE\n",
    "plt.figure(figsize = (8,6))\n",
    "bar_flee = sns.barplot(x = kill.flee.value_counts().index ,y = kill.flee.value_counts().values );\n",
    "bar_flee.bar_label(bar_flee.containers[0]);\n",
    "bar_flee.set_ylabel(\"count\");\n",
    "bar_flee.set_xlabel(\"flee\");\n"
   ]
  },
  {
   "cell_type": "markdown",
   "metadata": {},
   "source": [
    "Desired Output:\n",
    "\n",
    "<img src=https://i.ibb.co/tYkDSB6/DV2-6a.png width=\"500\" height=\"200\">  "
   ]
  },
  {
   "cell_type": "code",
   "execution_count": 26,
   "metadata": {},
   "outputs": [
    {
     "data": {
      "image/png": "[encoded data removed]",
      "text/plain": [
       "<Figure size 576x432 with 1 Axes>"
      ]
     },
     "metadata": {
      "needs_background": "light"
     },
     "output_type": "display_data"
    }
   ],
   "source": [
    "# With Seaborn Countplot\n",
    "\n",
    "# YOUR CODE IS HERE\n",
    "\n",
    "plt.figure(figsize = (8,6))\n",
    "\n",
    "cplot = sns.countplot(x = \"flee\", data=kill);\n",
    "\n",
    "cplot.set_xlabel(\"flee\");\n",
    "cplot.set_ylabel(\"count\");\n",
    "cplot.bar_label(cplot.containers[0]); "
   ]
  },
  {
   "cell_type": "markdown",
   "metadata": {},
   "source": [
    "Desired Output:\n",
    "\n",
    "<img src=https://i.ibb.co/fXXc4xn/DV2-6b.png width=\"500\" height=\"200\">  "
   ]
  },
  {
   "cell_type": "markdown",
   "metadata": {
    "id": "mEW3K462_ml0"
   },
   "source": [
    "<a id=\"8\"></a>\n",
    "<a href=\"#toc\" class=\"btn btn-primary btn-sm\" role=\"button\" aria-pressed=\"true\" \n",
    "style=\"color:blue; background-color:#dfa8e4\" data-toggle=\"popover\">Content</a>\n",
    "\n",
    "## <p style=\"background-color:#9d4f8c; font-family:newtimeroman; color:#FFF9ED; font-size:150%; text-align:center; border-radius:10px 10px;\">THE END OF THE ASSIGNMENT-02</p>\n",
    "\n",
    "# Now. it's time to relax! Take your time and sip your coffee\n",
    "\n",
    "<img src=https://i.ibb.co/jZD3Mqb/relaxing.jpg width=\"800\" height=\"200\">  \n",
    "\n",
    "\n",
    "<p style=\"text-align: center;\"><img src=\"https://i.ibb.co/99DQ3TY/DS-Courses.png\" class=\"img-fluid\" \n",
    "alt=\"CLRSWY\"></p>\n",
    "\n",
    "<a href=\"https://clarusway.com/\"><img align=\"center\" src=\"https://docs.google.com/uc?id=1lY0Uj5R04yMY3-ZppPWxqCr5pvBLYPnV\" alt=\"CLRSWY\" title=\"Way to Reinvent Yourself\"></a><br/>\n",
    "\n",
    "\n",
    "## <p style=\"background-color:#FDFEFE; font-family:newtimeroman; color:#9d4f8c; font-size:120%; text-align:center; border-radius:10px 10px;\">Way to Reinvent Yourself</p>\n",
    "___"
   ]
  }
 ],
 "metadata": {
  "colab": {
   "collapsed_sections": [],
   "name": "LAB-2 Assignment-2 student.ipynb",
   "provenance": []
  },
  "kernelspec": {
   "display_name": "Python 3",
   "language": "python",
   "name": "python3"
  },
  "language_info": {
   "codemirror_mode": {
    "name": "ipython",
    "version": 3
   },
   "file_extension": ".py",
   "mimetype": "text/x-python",
   "name": "python",
   "nbconvert_exporter": "python",
   "pygments_lexer": "ipython3",
   "version": "3.8.8"
  },
  "toc": {
   "base_numbering": 1,
   "nav_menu": {},
   "number_sections": false,
   "sideBar": true,
   "skip_h1_title": false,
   "title_cell": "Table of Contents",
   "title_sidebar": "Contents",
   "toc_cell": false,
   "toc_position": {
    "height": "calc(100% - 180px)",
    "left": "10px",
    "top": "150px",
    "width": "304.475px"
   },
   "toc_section_display": true,
   "toc_window_display": true
  }
 },
 "nbformat": 4,
 "nbformat_minor": 1
}
