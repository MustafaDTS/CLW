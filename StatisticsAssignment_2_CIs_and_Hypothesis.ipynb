{
 "cells": [
  {
   "cell_type": "markdown",
   "id": "8e6009dd",
   "metadata": {},
   "source": [
    "## CONFIDENCE INTERVALS"
   ]
  },
  {
   "cell_type": "markdown",
   "id": "34a520ac",
   "metadata": {},
   "source": [
    "**EXERCISE 1.** What is the normal body temperature for healthy humans? A random sample of 130 healthy human body temperatures provided by Allen Shoemaker yielded 98.25 degrees and standard deviation 0.73 degrees. \n",
    "\n",
    "Give a 99% confidence interval for the average body temperature of healthy people."
   ]
  },
  {
   "cell_type": "code",
   "execution_count": 1,
   "id": "f5150aab",
   "metadata": {},
   "outputs": [],
   "source": [
    "# Import pandas, numpy, scip.stats\n",
    "import pandas as pd\n",
    "import numpy as np\n",
    "from scipy import stats\n",
    "import seaborn as sns\n",
    "import matplotlib.pyplot as plt\n",
    "%matplotlib inline"
   ]
  },
  {
   "cell_type": "code",
   "execution_count": 2,
   "id": "4b5baf0e",
   "metadata": {},
   "outputs": [
    {
     "data": {
      "text/plain": [
       "[98.08507099358535, 98.41492900641465]"
      ]
     },
     "execution_count": 2,
     "metadata": {},
     "output_type": "execute_result"
    }
   ],
   "source": [
    "# Sample size\n",
    "n = 130 \n",
    "# The mean of body temperatures\n",
    "xbar = 98.25\n",
    "#The std of body temperatures\n",
    "s = 0.73\n",
    "\n",
    "sem = s/np.sqrt(n)   # sem or sigma_x_bar : std of imaginary graph (std for sampling dist of sample mean)\n",
    "\n",
    "# A confidence interval has the form: estimate ± margin of error\n",
    "# 99% Confidence Interval (z_0.01/2 = 2.576, from z table) \n",
    "# Sample size is big, we can use z-score\n",
    "\n",
    "moe = 2.576*sem\n",
    "upper_lim = xbar + moe\n",
    "low_lim = xbar - moe\n",
    "\n",
    "ci_z = [low_lim, upper_lim]\n",
    "\n",
    "ci_z\n"
   ]
  },
  {
   "cell_type": "code",
   "execution_count": 3,
   "id": "fa96dbfe",
   "metadata": {},
   "outputs": [
    {
     "data": {
      "text/plain": [
       "(98.08508192246582, 98.41491807753418)"
      ]
     },
     "execution_count": 3,
     "metadata": {},
     "output_type": "execute_result"
    }
   ],
   "source": [
    "#check this using stat library\n",
    "\n",
    "ci_z_stat = stats.norm.interval(0.99, xbar, sem)\n",
    "ci_z_stat\n",
    "\n"
   ]
  },
  {
   "cell_type": "code",
   "execution_count": 4,
   "id": "40da604c",
   "metadata": {},
   "outputs": [
    {
     "data": {
      "text/plain": [
       "(98.08260738705933, 98.41739261294067)"
      ]
     },
     "execution_count": 4,
     "metadata": {},
     "output_type": "execute_result"
    }
   ],
   "source": [
    "#we can do this using t-table (in general we use this)\n",
    "ci_t_stat = stats.t.interval(0.99, \n",
    "                        n-1, \n",
    "                        xbar, \n",
    "                        scale=sem)\n",
    "ci_t_stat \n"
   ]
  },
  {
   "cell_type": "markdown",
   "id": "1bb7cdbb",
   "metadata": {},
   "source": [
    "**EXERCISE 2.** The administrators for a hospital wished to estimate the average number of days required for inpatient treatment of patients between the ages of 25 and 34. A random sample of 500 hospital patients between these ages produced a mean and standard deviation equal to 5.4 and 3.1 days, respectively.\n",
    "\n",
    "\n",
    "Construct a 95% confidence interval for the mean length of stay for the population of patients from which the sample was drawn."
   ]
  },
  {
   "cell_type": "code",
   "execution_count": 5,
   "id": "4f4fe9fd",
   "metadata": {},
   "outputs": [
    {
     "data": {
      "text/plain": [
       "[5.128273019374226, 5.671726980625775]"
      ]
     },
     "execution_count": 5,
     "metadata": {},
     "output_type": "execute_result"
    }
   ],
   "source": [
    "# Sample size\n",
    "n_patients = 500\n",
    "# The mean of number of days required\n",
    "xbar_days_required = 5.4 \n",
    "#The std of number of days required\n",
    "s_days_required = 3.1\n",
    "\n",
    "sem_days_required = s_days_required/np.sqrt(n_patients)   # sem or sigma_x_bar\n",
    "\n",
    "# A confidence interval has the form: estimate ± margin of error\n",
    "# 95% Confidence Interval (z_0.05/2 = 1.96, from z table)\n",
    "\n",
    "moe_days_required = 1.96*sem_days_required\n",
    "upper_lim = xbar_days_required + moe_days_required\n",
    "low_lim = xbar_days_required - moe_days_required\n",
    "\n",
    "ci_z_days_required = [low_lim, upper_lim]\n",
    "\n",
    "ci_z_days_required\n"
   ]
  },
  {
   "cell_type": "code",
   "execution_count": 6,
   "id": "3442c413",
   "metadata": {},
   "outputs": [
    {
     "data": {
      "text/plain": [
       "(5.12827801242126, 5.67172198757874)"
      ]
     },
     "execution_count": 6,
     "metadata": {},
     "output_type": "execute_result"
    }
   ],
   "source": [
    "#check this using stat library\n",
    "\n",
    "ci_z_days_required_stat = stats.norm.interval(0.95, xbar_days_required, sem_days_required)\n",
    "ci_z_days_required_stat"
   ]
  },
  {
   "cell_type": "code",
   "execution_count": 7,
   "id": "3305ba8a",
   "metadata": {},
   "outputs": [
    {
     "data": {
      "text/plain": [
       "(5.127617354510309, 5.672382645489692)"
      ]
     },
     "execution_count": 7,
     "metadata": {},
     "output_type": "execute_result"
    }
   ],
   "source": [
    "#Using t-table (in general we use this)\n",
    "ci_t_days_required_stat = stats.t.interval(0.95, \n",
    "                        n_patients-1, \n",
    "                        xbar_days_required, \n",
    "                        scale=sem_days_required)\n",
    "ci_t_days_required_stat "
   ]
  },
  {
   "cell_type": "markdown",
   "id": "62ef8612",
   "metadata": {},
   "source": [
    "## HYPOTHESIS TESTING"
   ]
  },
  {
   "cell_type": "markdown",
   "id": "e8d52af2",
   "metadata": {},
   "source": [
    "**EXERCISE 3.** The hourly wages in a particular industry are normally distributed with mean 13.20 and standard deviation 2.50. A company in this industry employs 40 workers, paying them an average of 12.20 per hour. Can this company be accused of paying substandard wages? Use an α = .01 level test. (Wackerly, Ex.10.18)\n"
   ]
  },
  {
   "cell_type": "code",
   "execution_count": 8,
   "id": "dac17759",
   "metadata": {},
   "outputs": [
    {
     "name": "stdout",
     "output_type": "stream",
     "text": [
      "statistic: -2.5298221281347035, pvalue= 0.005706018193000826\n",
      "At 0.01 level of significance, we can reject the null hypothesis in favor of alternative hypothesis.\n"
     ]
    }
   ],
   "source": [
    "#do it manually (don't have explicit data), we can use z-score (n = 40>30), but this is generally theoritical\n",
    "\n",
    "x_bar = 12.20 # sample mean \n",
    "n = 40 # number of samples\n",
    "sigma =  2.50 # sd of population\n",
    "mu = 13.20 # Population mean \n",
    "\n",
    "# H_0: mu = 13.20\n",
    "# H_1: mu < 13.20 # Since our sample has xbar = 12.20, also [area under left tail (one sided)]\n",
    "\n",
    "# Calculate the test statistic\n",
    "z = (x_bar - mu)/(sigma/np.sqrt(n)) \n",
    "# we get z = -2.5298221281347035\n",
    "# Calculate the p-value\n",
    "p_value = stats.norm.cdf(z) #gives cumilative probability upto z and left of it\n",
    "\n",
    "print(f\"statistic: {z}, pvalue= {p_value}\")\n",
    "\n",
    "alpha = 0.01\n",
    "\n",
    "if p_value<alpha:\n",
    "    print(f'At {alpha} level of significance, we can reject the null hypothesis in favor of alternative hypothesis.')\n",
    "else:\n",
    "    print(f'At {alpha} level of significance, we fail to reject the null hypothesis.')"
   ]
  },
  {
   "cell_type": "code",
   "execution_count": 9,
   "id": "b56592de",
   "metadata": {},
   "outputs": [
    {
     "name": "stdout",
     "output_type": "stream",
     "text": [
      "statistic: -2.5298221281347035, pvalue= 0.0077816812266594355\n",
      "At 0.01 level of significance, we can reject the null hypothesis in favor of alternative hypothesis.\n"
     ]
    }
   ],
   "source": [
    "# repeat it with t-test scroe (in general we use this)\n",
    "\n",
    "t = (x_bar - mu)/(sigma/np.sqrt(n))\n",
    "p_value = stats.t.cdf(t, n-1) #gives cumilative probability upto t and left of it\n",
    "\n",
    "print(f\"statistic: {z}, pvalue= {p_value}\")\n",
    "\n",
    "alpha = 0.01\n",
    "\n",
    "if p_value<alpha:\n",
    "    print(f'At {alpha} level of significance, we can reject the null hypothesis in favor of alternative hypothesis.')\n",
    "else:\n",
    "    print(f'At {alpha} level of significance, we fail to reject the null hypothesis.')"
   ]
  },
  {
   "cell_type": "markdown",
   "id": "c6b492b9",
   "metadata": {},
   "source": [
    "**CHECK:** statistic: -2.5298221281347035, pvalue= 0.005706018193000826"
   ]
  },
  {
   "cell_type": "markdown",
   "id": "1856a879",
   "metadata": {},
   "source": [
    "**EXERCISE 4.** Shear strength measurements derived from unconfined compression tests for two types of soils gave the results shown in the following document (measurements in tons per square foot). Do the soils appear to differ with respect to average shear strength, at the 1% significance level?\n",
    "\n",
    "[Link for two type of soils](https://docs.google.com/spreadsheets/d/1f2odmgDboIVuSV-A5gmuC25ppqQ5g1OIIF4h5EOqUcI/edit#gid=0)\n"
   ]
  },
  {
   "cell_type": "code",
   "execution_count": 10,
   "id": "0ffbd11d",
   "metadata": {},
   "outputs": [
    {
     "data": {
      "text/html": [
       "<div>\n",
       "<style scoped>\n",
       "    .dataframe tbody tr th:only-of-type {\n",
       "        vertical-align: middle;\n",
       "    }\n",
       "\n",
       "    .dataframe tbody tr th {\n",
       "        vertical-align: top;\n",
       "    }\n",
       "\n",
       "    .dataframe thead th {\n",
       "        text-align: right;\n",
       "    }\n",
       "</style>\n",
       "<table border=\"1\" class=\"dataframe\">\n",
       "  <thead>\n",
       "    <tr style=\"text-align: right;\">\n",
       "      <th></th>\n",
       "      <th>Soil1</th>\n",
       "      <th>Soil2</th>\n",
       "    </tr>\n",
       "  </thead>\n",
       "  <tbody>\n",
       "    <tr>\n",
       "      <th>0</th>\n",
       "      <td>1.442</td>\n",
       "      <td>1.364</td>\n",
       "    </tr>\n",
       "    <tr>\n",
       "      <th>1</th>\n",
       "      <td>1.943</td>\n",
       "      <td>1.878</td>\n",
       "    </tr>\n",
       "    <tr>\n",
       "      <th>2</th>\n",
       "      <td>1.110</td>\n",
       "      <td>1.337</td>\n",
       "    </tr>\n",
       "    <tr>\n",
       "      <th>3</th>\n",
       "      <td>1.912</td>\n",
       "      <td>1.828</td>\n",
       "    </tr>\n",
       "    <tr>\n",
       "      <th>4</th>\n",
       "      <td>1.553</td>\n",
       "      <td>1.371</td>\n",
       "    </tr>\n",
       "  </tbody>\n",
       "</table>\n",
       "</div>"
      ],
      "text/plain": [
       "   Soil1  Soil2\n",
       "0  1.442  1.364\n",
       "1  1.943  1.878\n",
       "2  1.110  1.337\n",
       "3  1.912  1.828\n",
       "4  1.553  1.371"
      ]
     },
     "execution_count": 10,
     "metadata": {},
     "output_type": "execute_result"
    }
   ],
   "source": [
    "#Import soil dataset\n",
    "soil = pd.read_csv(\"soil - Sheet1.csv\")\n",
    "soil.head()"
   ]
  },
  {
   "cell_type": "code",
   "execution_count": 11,
   "id": "7ac2f8cb",
   "metadata": {},
   "outputs": [
    {
     "name": "stdout",
     "output_type": "stream",
     "text": [
      "<class 'pandas.core.frame.DataFrame'>\n",
      "RangeIndex: 35 entries, 0 to 34\n",
      "Data columns (total 2 columns):\n",
      " #   Column  Non-Null Count  Dtype  \n",
      "---  ------  --------------  -----  \n",
      " 0   Soil1   30 non-null     float64\n",
      " 1   Soil2   35 non-null     float64\n",
      "dtypes: float64(2)\n",
      "memory usage: 688.0 bytes\n"
     ]
    }
   ],
   "source": [
    "soil.info()"
   ]
  },
  {
   "cell_type": "code",
   "execution_count": 12,
   "id": "82c1b709",
   "metadata": {},
   "outputs": [],
   "source": [
    "# Use Independent Samples T Test\n",
    "#H0: mu1 = mu2\n",
    "#H1: mu1 != mu2"
   ]
  },
  {
   "cell_type": "code",
   "execution_count": 13,
   "id": "1b0055af",
   "metadata": {},
   "outputs": [
    {
     "data": {
      "text/plain": [
       "LeveneResult(statistic=0.31486292982090475, pvalue=0.5767018253541134)"
      ]
     },
     "execution_count": 13,
     "metadata": {},
     "output_type": "execute_result"
    }
   ],
   "source": [
    "#Perform Levene test for equal variances\n",
    "#H0: The population variances are equal\n",
    "#H1: There is a difference between the variances in the population\n",
    "#The small p-value suggests that the populations do not have equal variances.(equal_var = False)\n",
    "#The large p-value suggests that the populations have equal variances.(equal_var = True) \n",
    "leveneTest = stats.levene(soil.Soil1.dropna(), soil.Soil2) # drop nulls in Soil1 otherwise test is not working\n",
    "leveneTest"
   ]
  },
  {
   "cell_type": "code",
   "execution_count": 14,
   "id": "9191cab9",
   "metadata": {},
   "outputs": [
    {
     "name": "stdout",
     "output_type": "stream",
     "text": [
      "Ttest_indResult(statistic=5.1681473319343345, pvalue=2.593228732352821e-06)\n",
      "Reject the null. At the 0.01 significance level, we have sufficient evidence to indicate that the soils appear to differ with respect to average shear strength. \n"
     ]
    }
   ],
   "source": [
    "# Calculate test statistics using stats.ttest_ind()\n",
    "indTest = stats.ttest_ind(soil.Soil1.dropna(), soil.Soil2, equal_var = True) # p is large use True\n",
    "print(indTest)\n",
    "\n",
    "# Decision\n",
    "alpha = 0.01\n",
    "\n",
    "if indTest.pvalue < alpha:\n",
    "    print(f\"Reject the null. At the {alpha} significance level, we have sufficient evidence to indicate that the soils appear to differ with respect to average shear strength. \")\n",
    "else:\n",
    "    print(\"Fail to reject the null.\")"
   ]
  },
  {
   "cell_type": "markdown",
   "id": "85fd0fb5",
   "metadata": {},
   "source": [
    "**CHECK:** statistic: 5.1681473319343345, pvalue= 2.593228732352821e-06\n"
   ]
  },
  {
   "cell_type": "markdown",
   "id": "34abdb89",
   "metadata": {},
   "source": [
    "**EXERCISE 5.** The following dataset is based on data provided by the World Bank (https://datacatalog.worldbank.org/dataset/education-statistics). Link World Bank Edstats. [2015 PISA Test Dataset](https://docs.google.com/spreadsheets/d/14rVnIUfEm3CuK9bSvS5253RHWzQhXOuNc0I-cCkgpR8/edit#gid=0)\n",
    "\n",
    "1. Get descriptive statistics (the central tendency, dispersion and shape of a dataset’s distribution) for each continent group (AS, EU, AF, NA, SA, OC).\n",
    "2. Determine whether there is any difference (on the average) for the math scores among European (EU) and Asian (AS) countries (assume normality and equal variances). Draw side-by-side box plots.\n"
   ]
  },
  {
   "cell_type": "code",
   "execution_count": 15,
   "id": "41f4da97",
   "metadata": {},
   "outputs": [
    {
     "data": {
      "text/html": [
       "<div>\n",
       "<style scoped>\n",
       "    .dataframe tbody tr th:only-of-type {\n",
       "        vertical-align: middle;\n",
       "    }\n",
       "\n",
       "    .dataframe tbody tr th {\n",
       "        vertical-align: top;\n",
       "    }\n",
       "\n",
       "    .dataframe thead th {\n",
       "        text-align: right;\n",
       "    }\n",
       "</style>\n",
       "<table border=\"1\" class=\"dataframe\">\n",
       "  <thead>\n",
       "    <tr style=\"text-align: right;\">\n",
       "      <th></th>\n",
       "      <th>Country Code</th>\n",
       "      <th>Continent_Code</th>\n",
       "      <th>internet_users_per_100</th>\n",
       "      <th>Math</th>\n",
       "      <th>Reading</th>\n",
       "      <th>Science</th>\n",
       "    </tr>\n",
       "  </thead>\n",
       "  <tbody>\n",
       "    <tr>\n",
       "      <th>0</th>\n",
       "      <td>ALB</td>\n",
       "      <td>EU</td>\n",
       "      <td>63.252933</td>\n",
       "      <td>413.1570</td>\n",
       "      <td>405.2588</td>\n",
       "      <td>427.2250</td>\n",
       "    </tr>\n",
       "    <tr>\n",
       "      <th>1</th>\n",
       "      <td>ARE</td>\n",
       "      <td>AS</td>\n",
       "      <td>90.500000</td>\n",
       "      <td>427.4827</td>\n",
       "      <td>433.5423</td>\n",
       "      <td>436.7311</td>\n",
       "    </tr>\n",
       "    <tr>\n",
       "      <th>2</th>\n",
       "      <td>ARG</td>\n",
       "      <td>SA</td>\n",
       "      <td>68.043064</td>\n",
       "      <td>409.0333</td>\n",
       "      <td>425.3031</td>\n",
       "      <td>432.2262</td>\n",
       "    </tr>\n",
       "    <tr>\n",
       "      <th>3</th>\n",
       "      <td>AUS</td>\n",
       "      <td>OC</td>\n",
       "      <td>84.560519</td>\n",
       "      <td>493.8962</td>\n",
       "      <td>502.9006</td>\n",
       "      <td>509.9939</td>\n",
       "    </tr>\n",
       "    <tr>\n",
       "      <th>4</th>\n",
       "      <td>AUT</td>\n",
       "      <td>EU</td>\n",
       "      <td>83.940142</td>\n",
       "      <td>496.7423</td>\n",
       "      <td>484.8656</td>\n",
       "      <td>495.0375</td>\n",
       "    </tr>\n",
       "  </tbody>\n",
       "</table>\n",
       "</div>"
      ],
      "text/plain": [
       "  Country Code Continent_Code  internet_users_per_100      Math   Reading  \\\n",
       "0          ALB             EU               63.252933  413.1570  405.2588   \n",
       "1          ARE             AS               90.500000  427.4827  433.5423   \n",
       "2          ARG             SA               68.043064  409.0333  425.3031   \n",
       "3          AUS             OC               84.560519  493.8962  502.9006   \n",
       "4          AUT             EU               83.940142  496.7423  484.8656   \n",
       "\n",
       "    Science  \n",
       "0  427.2250  \n",
       "1  436.7311  \n",
       "2  432.2262  \n",
       "3  509.9939  \n",
       "4  495.0375  "
      ]
     },
     "execution_count": 15,
     "metadata": {},
     "output_type": "execute_result"
    }
   ],
   "source": [
    "#Import PISA test dataset\n",
    "PISA_Test = pd.read_csv(\"2015 PISA Test - Sheet1.csv\")\n",
    "PISA_Test.head()"
   ]
  },
  {
   "cell_type": "code",
   "execution_count": 16,
   "id": "cec20507",
   "metadata": {},
   "outputs": [
    {
     "name": "stdout",
     "output_type": "stream",
     "text": [
      "<class 'pandas.core.frame.DataFrame'>\n",
      "RangeIndex: 70 entries, 0 to 69\n",
      "Data columns (total 6 columns):\n",
      " #   Column                  Non-Null Count  Dtype  \n",
      "---  ------                  --------------  -----  \n",
      " 0   Country Code            70 non-null     object \n",
      " 1   Continent_Code          65 non-null     object \n",
      " 2   internet_users_per_100  70 non-null     float64\n",
      " 3   Math                    70 non-null     float64\n",
      " 4   Reading                 70 non-null     float64\n",
      " 5   Science                 70 non-null     float64\n",
      "dtypes: float64(4), object(2)\n",
      "memory usage: 3.4+ KB\n"
     ]
    }
   ],
   "source": [
    "PISA_Test.info()"
   ]
  },
  {
   "cell_type": "code",
   "execution_count": 17,
   "id": "e3ad674d",
   "metadata": {},
   "outputs": [
    {
     "data": {
      "text/html": [
       "<div>\n",
       "<style scoped>\n",
       "    .dataframe tbody tr th:only-of-type {\n",
       "        vertical-align: middle;\n",
       "    }\n",
       "\n",
       "    .dataframe tbody tr th {\n",
       "        vertical-align: top;\n",
       "    }\n",
       "\n",
       "    .dataframe thead tr th {\n",
       "        text-align: left;\n",
       "    }\n",
       "\n",
       "    .dataframe thead tr:last-of-type th {\n",
       "        text-align: right;\n",
       "    }\n",
       "</style>\n",
       "<table border=\"1\" class=\"dataframe\">\n",
       "  <thead>\n",
       "    <tr>\n",
       "      <th></th>\n",
       "      <th colspan=\"8\" halign=\"left\">internet_users_per_100</th>\n",
       "      <th colspan=\"2\" halign=\"left\">Math</th>\n",
       "      <th>...</th>\n",
       "      <th colspan=\"2\" halign=\"left\">Reading</th>\n",
       "      <th colspan=\"8\" halign=\"left\">Science</th>\n",
       "    </tr>\n",
       "    <tr>\n",
       "      <th></th>\n",
       "      <th>count</th>\n",
       "      <th>mean</th>\n",
       "      <th>std</th>\n",
       "      <th>min</th>\n",
       "      <th>25%</th>\n",
       "      <th>50%</th>\n",
       "      <th>75%</th>\n",
       "      <th>max</th>\n",
       "      <th>count</th>\n",
       "      <th>mean</th>\n",
       "      <th>...</th>\n",
       "      <th>75%</th>\n",
       "      <th>max</th>\n",
       "      <th>count</th>\n",
       "      <th>mean</th>\n",
       "      <th>std</th>\n",
       "      <th>min</th>\n",
       "      <th>25%</th>\n",
       "      <th>50%</th>\n",
       "      <th>75%</th>\n",
       "      <th>max</th>\n",
       "    </tr>\n",
       "    <tr>\n",
       "      <th>Continent_Code</th>\n",
       "      <th></th>\n",
       "      <th></th>\n",
       "      <th></th>\n",
       "      <th></th>\n",
       "      <th></th>\n",
       "      <th></th>\n",
       "      <th></th>\n",
       "      <th></th>\n",
       "      <th></th>\n",
       "      <th></th>\n",
       "      <th></th>\n",
       "      <th></th>\n",
       "      <th></th>\n",
       "      <th></th>\n",
       "      <th></th>\n",
       "      <th></th>\n",
       "      <th></th>\n",
       "      <th></th>\n",
       "      <th></th>\n",
       "      <th></th>\n",
       "      <th></th>\n",
       "    </tr>\n",
       "  </thead>\n",
       "  <tbody>\n",
       "    <tr>\n",
       "      <th>AF</th>\n",
       "      <td>2.0</td>\n",
       "      <td>43.359918</td>\n",
       "      <td>7.297226</td>\n",
       "      <td>38.200000</td>\n",
       "      <td>40.779959</td>\n",
       "      <td>43.359918</td>\n",
       "      <td>45.939877</td>\n",
       "      <td>48.519836</td>\n",
       "      <td>2.0</td>\n",
       "      <td>363.212100</td>\n",
       "      <td>...</td>\n",
       "      <td>358.256450</td>\n",
       "      <td>361.0555</td>\n",
       "      <td>2.0</td>\n",
       "      <td>381.074250</td>\n",
       "      <td>7.536556</td>\n",
       "      <td>375.7451</td>\n",
       "      <td>378.409675</td>\n",
       "      <td>381.07425</td>\n",
       "      <td>383.738825</td>\n",
       "      <td>386.4034</td>\n",
       "    </tr>\n",
       "    <tr>\n",
       "      <th>AS</th>\n",
       "      <td>17.0</td>\n",
       "      <td>68.455613</td>\n",
       "      <td>21.086060</td>\n",
       "      <td>21.976068</td>\n",
       "      <td>50.300000</td>\n",
       "      <td>74.000000</td>\n",
       "      <td>84.948353</td>\n",
       "      <td>92.884826</td>\n",
       "      <td>17.0</td>\n",
       "      <td>466.216647</td>\n",
       "      <td>...</td>\n",
       "      <td>508.690500</td>\n",
       "      <td>535.1002</td>\n",
       "      <td>17.0</td>\n",
       "      <td>467.945847</td>\n",
       "      <td>56.671371</td>\n",
       "      <td>386.4854</td>\n",
       "      <td>417.611200</td>\n",
       "      <td>456.48360</td>\n",
       "      <td>523.277400</td>\n",
       "      <td>555.5747</td>\n",
       "    </tr>\n",
       "    <tr>\n",
       "      <th>EU</th>\n",
       "      <td>37.0</td>\n",
       "      <td>77.274888</td>\n",
       "      <td>12.425773</td>\n",
       "      <td>53.744979</td>\n",
       "      <td>68.632900</td>\n",
       "      <td>76.184000</td>\n",
       "      <td>87.479056</td>\n",
       "      <td>98.200000</td>\n",
       "      <td>37.0</td>\n",
       "      <td>477.981449</td>\n",
       "      <td>...</td>\n",
       "      <td>499.814600</td>\n",
       "      <td>526.4247</td>\n",
       "      <td>37.0</td>\n",
       "      <td>478.299381</td>\n",
       "      <td>34.450616</td>\n",
       "      <td>383.6824</td>\n",
       "      <td>460.774900</td>\n",
       "      <td>490.22500</td>\n",
       "      <td>501.936900</td>\n",
       "      <td>534.1937</td>\n",
       "    </tr>\n",
       "    <tr>\n",
       "      <th>OC</th>\n",
       "      <td>2.0</td>\n",
       "      <td>86.391704</td>\n",
       "      <td>2.589686</td>\n",
       "      <td>84.560519</td>\n",
       "      <td>85.476112</td>\n",
       "      <td>86.391704</td>\n",
       "      <td>87.307296</td>\n",
       "      <td>88.222889</td>\n",
       "      <td>2.0</td>\n",
       "      <td>494.559750</td>\n",
       "      <td>...</td>\n",
       "      <td>507.678175</td>\n",
       "      <td>509.2707</td>\n",
       "      <td>2.0</td>\n",
       "      <td>511.648700</td>\n",
       "      <td>2.340241</td>\n",
       "      <td>509.9939</td>\n",
       "      <td>510.821300</td>\n",
       "      <td>511.64870</td>\n",
       "      <td>512.476100</td>\n",
       "      <td>513.3035</td>\n",
       "    </tr>\n",
       "    <tr>\n",
       "      <th>SA</th>\n",
       "      <td>7.0</td>\n",
       "      <td>60.180494</td>\n",
       "      <td>9.772455</td>\n",
       "      <td>40.900000</td>\n",
       "      <td>57.116462</td>\n",
       "      <td>64.289000</td>\n",
       "      <td>66.321532</td>\n",
       "      <td>69.198471</td>\n",
       "      <td>7.0</td>\n",
       "      <td>402.887700</td>\n",
       "      <td>...</td>\n",
       "      <td>431.922700</td>\n",
       "      <td>458.5709</td>\n",
       "      <td>7.0</td>\n",
       "      <td>421.747186</td>\n",
       "      <td>18.470319</td>\n",
       "      <td>396.6836</td>\n",
       "      <td>408.205450</td>\n",
       "      <td>424.59050</td>\n",
       "      <td>433.794600</td>\n",
       "      <td>446.9561</td>\n",
       "    </tr>\n",
       "  </tbody>\n",
       "</table>\n",
       "<p>5 rows × 32 columns</p>\n",
       "</div>"
      ],
      "text/plain": [
       "               internet_users_per_100                                   \\\n",
       "                                count       mean        std        min   \n",
       "Continent_Code                                                           \n",
       "AF                                2.0  43.359918   7.297226  38.200000   \n",
       "AS                               17.0  68.455613  21.086060  21.976068   \n",
       "EU                               37.0  77.274888  12.425773  53.744979   \n",
       "OC                                2.0  86.391704   2.589686  84.560519   \n",
       "SA                                7.0  60.180494   9.772455  40.900000   \n",
       "\n",
       "                                                            Math              \\\n",
       "                      25%        50%        75%        max count        mean   \n",
       "Continent_Code                                                                 \n",
       "AF              40.779959  43.359918  45.939877  48.519836   2.0  363.212100   \n",
       "AS              50.300000  74.000000  84.948353  92.884826  17.0  466.216647   \n",
       "EU              68.632900  76.184000  87.479056  98.200000  37.0  477.981449   \n",
       "OC              85.476112  86.391704  87.307296  88.222889   2.0  494.559750   \n",
       "SA              57.116462  64.289000  66.321532  69.198471   7.0  402.887700   \n",
       "\n",
       "                ...     Reading           Science                         \\\n",
       "                ...         75%       max   count        mean        std   \n",
       "Continent_Code  ...                                                        \n",
       "AF              ...  358.256450  361.0555     2.0  381.074250   7.536556   \n",
       "AS              ...  508.690500  535.1002    17.0  467.945847  56.671371   \n",
       "EU              ...  499.814600  526.4247    37.0  478.299381  34.450616   \n",
       "OC              ...  507.678175  509.2707     2.0  511.648700   2.340241   \n",
       "SA              ...  431.922700  458.5709     7.0  421.747186  18.470319   \n",
       "\n",
       "                                                                       \n",
       "                     min         25%        50%         75%       max  \n",
       "Continent_Code                                                         \n",
       "AF              375.7451  378.409675  381.07425  383.738825  386.4034  \n",
       "AS              386.4854  417.611200  456.48360  523.277400  555.5747  \n",
       "EU              383.6824  460.774900  490.22500  501.936900  534.1937  \n",
       "OC              509.9939  510.821300  511.64870  512.476100  513.3035  \n",
       "SA              396.6836  408.205450  424.59050  433.794600  446.9561  \n",
       "\n",
       "[5 rows x 32 columns]"
      ]
     },
     "execution_count": 17,
     "metadata": {},
     "output_type": "execute_result"
    }
   ],
   "source": [
    "PISA_Test.groupby(\"Continent_Code\").describe()"
   ]
  },
  {
   "cell_type": "code",
   "execution_count": 18,
   "id": "7fc6cd23",
   "metadata": {},
   "outputs": [
    {
     "data": {
      "text/html": [
       "<div>\n",
       "<style scoped>\n",
       "    .dataframe tbody tr th:only-of-type {\n",
       "        vertical-align: middle;\n",
       "    }\n",
       "\n",
       "    .dataframe tbody tr th {\n",
       "        vertical-align: top;\n",
       "    }\n",
       "\n",
       "    .dataframe thead th {\n",
       "        text-align: right;\n",
       "    }\n",
       "</style>\n",
       "<table border=\"1\" class=\"dataframe\">\n",
       "  <thead>\n",
       "    <tr style=\"text-align: right;\">\n",
       "      <th></th>\n",
       "      <th>Country Code</th>\n",
       "      <th>Continent_Code</th>\n",
       "      <th>internet_users_per_100</th>\n",
       "      <th>Math</th>\n",
       "      <th>Reading</th>\n",
       "      <th>Science</th>\n",
       "    </tr>\n",
       "  </thead>\n",
       "  <tbody>\n",
       "    <tr>\n",
       "      <th>44</th>\n",
       "      <td>MDA</td>\n",
       "      <td>EU</td>\n",
       "      <td>63.306625</td>\n",
       "      <td>419.6635</td>\n",
       "      <td>416.2293</td>\n",
       "      <td>427.9978</td>\n",
       "    </tr>\n",
       "    <tr>\n",
       "      <th>60</th>\n",
       "      <td>SVK</td>\n",
       "      <td>EU</td>\n",
       "      <td>77.634700</td>\n",
       "      <td>475.2301</td>\n",
       "      <td>452.5143</td>\n",
       "      <td>460.7749</td>\n",
       "    </tr>\n",
       "    <tr>\n",
       "      <th>47</th>\n",
       "      <td>MLT</td>\n",
       "      <td>EU</td>\n",
       "      <td>76.184000</td>\n",
       "      <td>478.6448</td>\n",
       "      <td>446.6661</td>\n",
       "      <td>464.7819</td>\n",
       "    </tr>\n",
       "    <tr>\n",
       "      <th>51</th>\n",
       "      <td>NOR</td>\n",
       "      <td>EU</td>\n",
       "      <td>96.810300</td>\n",
       "      <td>501.7298</td>\n",
       "      <td>513.1912</td>\n",
       "      <td>498.4811</td>\n",
       "    </tr>\n",
       "    <tr>\n",
       "      <th>9</th>\n",
       "      <td>CHE</td>\n",
       "      <td>EU</td>\n",
       "      <td>87.479056</td>\n",
       "      <td>521.2506</td>\n",
       "      <td>492.1982</td>\n",
       "      <td>505.5058</td>\n",
       "    </tr>\n",
       "    <tr>\n",
       "      <th>20</th>\n",
       "      <td>ESP</td>\n",
       "      <td>EU</td>\n",
       "      <td>78.689600</td>\n",
       "      <td>485.8432</td>\n",
       "      <td>495.5764</td>\n",
       "      <td>492.7861</td>\n",
       "    </tr>\n",
       "    <tr>\n",
       "      <th>54</th>\n",
       "      <td>POL</td>\n",
       "      <td>EU</td>\n",
       "      <td>67.997000</td>\n",
       "      <td>504.4693</td>\n",
       "      <td>505.6971</td>\n",
       "      <td>501.4353</td>\n",
       "    </tr>\n",
       "    <tr>\n",
       "      <th>34</th>\n",
       "      <td>ITA</td>\n",
       "      <td>EU</td>\n",
       "      <td>58.141735</td>\n",
       "      <td>489.7287</td>\n",
       "      <td>484.7580</td>\n",
       "      <td>480.5468</td>\n",
       "    </tr>\n",
       "    <tr>\n",
       "      <th>17</th>\n",
       "      <td>DNK</td>\n",
       "      <td>EU</td>\n",
       "      <td>96.330500</td>\n",
       "      <td>511.0876</td>\n",
       "      <td>499.8146</td>\n",
       "      <td>501.9369</td>\n",
       "    </tr>\n",
       "    <tr>\n",
       "      <th>41</th>\n",
       "      <td>LUX</td>\n",
       "      <td>EU</td>\n",
       "      <td>97.334100</td>\n",
       "      <td>485.7706</td>\n",
       "      <td>481.4391</td>\n",
       "      <td>482.8064</td>\n",
       "    </tr>\n",
       "  </tbody>\n",
       "</table>\n",
       "</div>"
      ],
      "text/plain": [
       "   Country Code Continent_Code  internet_users_per_100      Math   Reading  \\\n",
       "44          MDA             EU               63.306625  419.6635  416.2293   \n",
       "60          SVK             EU               77.634700  475.2301  452.5143   \n",
       "47          MLT             EU               76.184000  478.6448  446.6661   \n",
       "51          NOR             EU               96.810300  501.7298  513.1912   \n",
       "9           CHE             EU               87.479056  521.2506  492.1982   \n",
       "20          ESP             EU               78.689600  485.8432  495.5764   \n",
       "54          POL             EU               67.997000  504.4693  505.6971   \n",
       "34          ITA             EU               58.141735  489.7287  484.7580   \n",
       "17          DNK             EU               96.330500  511.0876  499.8146   \n",
       "41          LUX             EU               97.334100  485.7706  481.4391   \n",
       "\n",
       "     Science  \n",
       "44  427.9978  \n",
       "60  460.7749  \n",
       "47  464.7819  \n",
       "51  498.4811  \n",
       "9   505.5058  \n",
       "20  492.7861  \n",
       "54  501.4353  \n",
       "34  480.5468  \n",
       "17  501.9369  \n",
       "41  482.8064  "
      ]
     },
     "execution_count": 18,
     "metadata": {},
     "output_type": "execute_result"
    }
   ],
   "source": [
    "df_EU =PISA_Test[PISA_Test[\"Continent_Code\"]==\"EU\"]\n",
    "df_EU.sample(10)"
   ]
  },
  {
   "cell_type": "code",
   "execution_count": 19,
   "id": "c1cc5c1b",
   "metadata": {},
   "outputs": [
    {
     "name": "stdout",
     "output_type": "stream",
     "text": [
      "<class 'pandas.core.frame.DataFrame'>\n",
      "Int64Index: 37 entries, 0 to 66\n",
      "Data columns (total 6 columns):\n",
      " #   Column                  Non-Null Count  Dtype  \n",
      "---  ------                  --------------  -----  \n",
      " 0   Country Code            37 non-null     object \n",
      " 1   Continent_Code          37 non-null     object \n",
      " 2   internet_users_per_100  37 non-null     float64\n",
      " 3   Math                    37 non-null     float64\n",
      " 4   Reading                 37 non-null     float64\n",
      " 5   Science                 37 non-null     float64\n",
      "dtypes: float64(4), object(2)\n",
      "memory usage: 2.0+ KB\n"
     ]
    }
   ],
   "source": [
    "df_EU.info()"
   ]
  },
  {
   "cell_type": "code",
   "execution_count": 20,
   "id": "febb39bd",
   "metadata": {},
   "outputs": [
    {
     "data": {
      "image/png": "[encoded data removed]",
      "text/plain": [
       "<Figure size 800x400 with 1 Axes>"
      ]
     },
     "metadata": {},
     "output_type": "display_data"
    },
    {
     "data": {
      "image/png": "[encoded data removed]",
      "text/plain": [
       "<Figure size 800x400 with 1 Axes>"
      ]
     },
     "metadata": {},
     "output_type": "display_data"
    },
    {
     "data": {
      "image/png": "[encoded data removed]",
      "text/plain": [
       "<Figure size 800x400 with 1 Axes>"
      ]
     },
     "metadata": {},
     "output_type": "display_data"
    },
    {
     "data": {
      "image/png": "[encoded data removed]",
      "text/plain": [
       "<Figure size 800x400 with 1 Axes>"
      ]
     },
     "metadata": {},
     "output_type": "display_data"
    },
    {
     "data": {
      "image/png": "[encoded data removed]",
      "text/plain": [
       "<Figure size 800x400 with 1 Axes>"
      ]
     },
     "metadata": {},
     "output_type": "display_data"
    },
    {
     "data": {
      "image/png": "[encoded data removed]",
      "text/plain": [
       "<Figure size 800x400 with 1 Axes>"
      ]
     },
     "metadata": {},
     "output_type": "display_data"
    }
   ],
   "source": [
    "for col in df_EU.columns:\n",
    "  sns.displot(x=col, height = 4, aspect = 2, data=df_EU)"
   ]
  },
  {
   "cell_type": "code",
   "execution_count": 21,
   "id": "5038361e",
   "metadata": {},
   "outputs": [
    {
     "data": {
      "text/html": [
       "<div>\n",
       "<style scoped>\n",
       "    .dataframe tbody tr th:only-of-type {\n",
       "        vertical-align: middle;\n",
       "    }\n",
       "\n",
       "    .dataframe tbody tr th {\n",
       "        vertical-align: top;\n",
       "    }\n",
       "\n",
       "    .dataframe thead th {\n",
       "        text-align: right;\n",
       "    }\n",
       "</style>\n",
       "<table border=\"1\" class=\"dataframe\">\n",
       "  <thead>\n",
       "    <tr style=\"text-align: right;\">\n",
       "      <th></th>\n",
       "      <th>Country Code</th>\n",
       "      <th>Continent_Code</th>\n",
       "      <th>internet_users_per_100</th>\n",
       "      <th>Math</th>\n",
       "      <th>Reading</th>\n",
       "      <th>Science</th>\n",
       "    </tr>\n",
       "  </thead>\n",
       "  <tbody>\n",
       "    <tr>\n",
       "      <th>59</th>\n",
       "      <td>SGP</td>\n",
       "      <td>AS</td>\n",
       "      <td>79.012957</td>\n",
       "      <td>564.1897</td>\n",
       "      <td>535.1002</td>\n",
       "      <td>555.5747</td>\n",
       "    </tr>\n",
       "    <tr>\n",
       "      <th>56</th>\n",
       "      <td>QAT</td>\n",
       "      <td>AS</td>\n",
       "      <td>92.884826</td>\n",
       "      <td>402.4007</td>\n",
       "      <td>401.8874</td>\n",
       "      <td>417.6112</td>\n",
       "    </tr>\n",
       "    <tr>\n",
       "      <th>43</th>\n",
       "      <td>MAC</td>\n",
       "      <td>AS</td>\n",
       "      <td>77.600132</td>\n",
       "      <td>543.8078</td>\n",
       "      <td>508.6905</td>\n",
       "      <td>528.5496</td>\n",
       "    </tr>\n",
       "    <tr>\n",
       "      <th>37</th>\n",
       "      <td>KAZ</td>\n",
       "      <td>AS</td>\n",
       "      <td>72.900000</td>\n",
       "      <td>459.8160</td>\n",
       "      <td>427.1410</td>\n",
       "      <td>456.4836</td>\n",
       "    </tr>\n",
       "    <tr>\n",
       "      <th>30</th>\n",
       "      <td>IDN</td>\n",
       "      <td>AS</td>\n",
       "      <td>21.976068</td>\n",
       "      <td>386.1096</td>\n",
       "      <td>397.2595</td>\n",
       "      <td>403.0997</td>\n",
       "    </tr>\n",
       "    <tr>\n",
       "      <th>25</th>\n",
       "      <td>GEO</td>\n",
       "      <td>AS</td>\n",
       "      <td>47.569760</td>\n",
       "      <td>403.8332</td>\n",
       "      <td>401.2881</td>\n",
       "      <td>411.1315</td>\n",
       "    </tr>\n",
       "    <tr>\n",
       "      <th>33</th>\n",
       "      <td>ISR</td>\n",
       "      <td>AS</td>\n",
       "      <td>77.352090</td>\n",
       "      <td>469.6695</td>\n",
       "      <td>478.9606</td>\n",
       "      <td>466.5528</td>\n",
       "    </tr>\n",
       "    <tr>\n",
       "      <th>63</th>\n",
       "      <td>THA</td>\n",
       "      <td>AS</td>\n",
       "      <td>39.316127</td>\n",
       "      <td>415.4638</td>\n",
       "      <td>409.1301</td>\n",
       "      <td>421.3373</td>\n",
       "    </tr>\n",
       "    <tr>\n",
       "      <th>38</th>\n",
       "      <td>KOR</td>\n",
       "      <td>AS</td>\n",
       "      <td>89.648631</td>\n",
       "      <td>524.1062</td>\n",
       "      <td>517.4367</td>\n",
       "      <td>515.8099</td>\n",
       "    </tr>\n",
       "    <tr>\n",
       "      <th>35</th>\n",
       "      <td>JOR</td>\n",
       "      <td>AS</td>\n",
       "      <td>60.114383</td>\n",
       "      <td>380.2590</td>\n",
       "      <td>408.1022</td>\n",
       "      <td>408.6691</td>\n",
       "    </tr>\n",
       "  </tbody>\n",
       "</table>\n",
       "</div>"
      ],
      "text/plain": [
       "   Country Code Continent_Code  internet_users_per_100      Math   Reading  \\\n",
       "59          SGP             AS               79.012957  564.1897  535.1002   \n",
       "56          QAT             AS               92.884826  402.4007  401.8874   \n",
       "43          MAC             AS               77.600132  543.8078  508.6905   \n",
       "37          KAZ             AS               72.900000  459.8160  427.1410   \n",
       "30          IDN             AS               21.976068  386.1096  397.2595   \n",
       "25          GEO             AS               47.569760  403.8332  401.2881   \n",
       "33          ISR             AS               77.352090  469.6695  478.9606   \n",
       "63          THA             AS               39.316127  415.4638  409.1301   \n",
       "38          KOR             AS               89.648631  524.1062  517.4367   \n",
       "35          JOR             AS               60.114383  380.2590  408.1022   \n",
       "\n",
       "     Science  \n",
       "59  555.5747  \n",
       "56  417.6112  \n",
       "43  528.5496  \n",
       "37  456.4836  \n",
       "30  403.0997  \n",
       "25  411.1315  \n",
       "33  466.5528  \n",
       "63  421.3373  \n",
       "38  515.8099  \n",
       "35  408.6691  "
      ]
     },
     "execution_count": 21,
     "metadata": {},
     "output_type": "execute_result"
    }
   ],
   "source": [
    "df_AS =PISA_Test[PISA_Test[\"Continent_Code\"]==\"AS\"]\n",
    "df_AS.sample(10)"
   ]
  },
  {
   "cell_type": "code",
   "execution_count": 22,
   "id": "19dfabc3",
   "metadata": {},
   "outputs": [
    {
     "name": "stdout",
     "output_type": "stream",
     "text": [
      "<class 'pandas.core.frame.DataFrame'>\n",
      "Int64Index: 17 entries, 1 to 69\n",
      "Data columns (total 6 columns):\n",
      " #   Column                  Non-Null Count  Dtype  \n",
      "---  ------                  --------------  -----  \n",
      " 0   Country Code            17 non-null     object \n",
      " 1   Continent_Code          17 non-null     object \n",
      " 2   internet_users_per_100  17 non-null     float64\n",
      " 3   Math                    17 non-null     float64\n",
      " 4   Reading                 17 non-null     float64\n",
      " 5   Science                 17 non-null     float64\n",
      "dtypes: float64(4), object(2)\n",
      "memory usage: 952.0+ bytes\n"
     ]
    }
   ],
   "source": [
    "df_AS.info()"
   ]
  },
  {
   "cell_type": "code",
   "execution_count": 23,
   "id": "55f92129",
   "metadata": {},
   "outputs": [
    {
     "data": {
      "image/png": "[encoded data removed]",
      "text/plain": [
       "<Figure size 800x400 with 1 Axes>"
      ]
     },
     "metadata": {},
     "output_type": "display_data"
    },
    {
     "data": {
      "image/png": "[encoded data removed]",
      "text/plain": [
       "<Figure size 800x400 with 1 Axes>"
      ]
     },
     "metadata": {},
     "output_type": "display_data"
    },
    {
     "data": {
      "image/png": "[encoded data removed]",
      "text/plain": [
       "<Figure size 800x400 with 1 Axes>"
      ]
     },
     "metadata": {},
     "output_type": "display_data"
    },
    {
     "data": {
      "image/png": "[encoded data removed]",
      "text/plain": [
       "<Figure size 800x400 with 1 Axes>"
      ]
     },
     "metadata": {},
     "output_type": "display_data"
    },
    {
     "data": {
      "image/png": "[encoded data removed]",
      "text/plain": [
       "<Figure size 800x400 with 1 Axes>"
      ]
     },
     "metadata": {},
     "output_type": "display_data"
    },
    {
     "data": {
      "image/png": "[encoded data removed]",
      "text/plain": [
       "<Figure size 800x400 with 1 Axes>"
      ]
     },
     "metadata": {},
     "output_type": "display_data"
    }
   ],
   "source": [
    "for col in df_AS.columns:\n",
    "  sns.displot(x=col, height = 4, aspect = 2, data=df_AS)"
   ]
  },
  {
   "cell_type": "code",
   "execution_count": 24,
   "id": "66b5c683",
   "metadata": {},
   "outputs": [
    {
     "data": {
      "image/png": "[encoded data removed]",
      "text/plain": [
       "<Figure size 640x480 with 1 Axes>"
      ]
     },
     "metadata": {},
     "output_type": "display_data"
    }
   ],
   "source": [
    "sns.boxplot(data=PISA_Test, x = \"Continent_Code\",y = \"Math\");"
   ]
  },
  {
   "cell_type": "code",
   "execution_count": 25,
   "id": "c9512fe0",
   "metadata": {},
   "outputs": [
    {
     "data": {
      "image/png": "[encoded data removed]",
      "text/plain": [
       "<Figure size 640x480 with 1 Axes>"
      ]
     },
     "metadata": {},
     "output_type": "display_data"
    }
   ],
   "source": [
    "sns.boxplot(data=PISA_Test, x = PISA_Test[(PISA_Test[\"Continent_Code\"] == \"EU\") | (PISA_Test[\"Continent_Code\"] == \"AS\")][\"Continent_Code\"],y = PISA_Test[(PISA_Test[\"Continent_Code\"] == \"EU\") | (PISA_Test[\"Continent_Code\"] == \"AS\")][\"Math\"]);"
   ]
  },
  {
   "cell_type": "code",
   "execution_count": 26,
   "id": "d451c0ff",
   "metadata": {},
   "outputs": [],
   "source": [
    "# H0: mu1 = mu2\n",
    "# H1: mu1 != mu2"
   ]
  },
  {
   "cell_type": "code",
   "execution_count": 27,
   "id": "8e0334ba",
   "metadata": {},
   "outputs": [
    {
     "name": "stdout",
     "output_type": "stream",
     "text": [
      "Ttest_indResult(statistic=0.870055317967983, pvalue=0.38826888111307345)\n",
      "Fail to reject the null.\n"
     ]
    }
   ],
   "source": [
    "# Calculate test statistics using stats.ttest_ind()\n",
    "indTest = stats.ttest_ind(df_EU.Math,df_AS.Math, equal_var = True)\n",
    "print(indTest)\n",
    "\n",
    "# Decision\n",
    "alpha = 0.05 #signifigance level not given use 5% \n",
    "\n",
    "if indTest.pvalue < alpha:\n",
    "    print(f\"Reject the null. At the {alpha} significance level, we have sufficient evidence to indicate that there is difference (on the average) for the math scores among European (EU) and Asian (AS) countries . \")\n",
    "else:\n",
    "    print(\"Fail to reject the null.\")"
   ]
  },
  {
   "cell_type": "markdown",
   "id": "c8585d16",
   "metadata": {},
   "source": [
    "**CHECK:** statistic=0.870055317967983, pvalue=0.38826888111307345"
   ]
  }
 ],
 "metadata": {
  "kernelspec": {
   "display_name": "Python 3 (ipykernel)",
   "language": "python",
   "name": "python3"
  },
  "language_info": {
   "codemirror_mode": {
    "name": "ipython",
    "version": 3
   },
   "file_extension": ".py",
   "mimetype": "text/x-python",
   "name": "python",
   "nbconvert_exporter": "python",
   "pygments_lexer": "ipython3",
   "version": "3.10.9"
  },
  "toc": {
   "base_numbering": 1,
   "nav_menu": {},
   "number_sections": true,
   "sideBar": true,
   "skip_h1_title": false,
   "title_cell": "Table of Contents",
   "title_sidebar": "Contents",
   "toc_cell": false,
   "toc_position": {},
   "toc_section_display": true,
   "toc_window_display": false
  },
  "varInspector": {
   "cols": {
    "lenName": 16,
    "lenType": 16,
    "lenVar": 40
   },
   "kernels_config": {
    "python": {
     "delete_cmd_postfix": "",
     "delete_cmd_prefix": "del ",
     "library": "var_list.py",
     "varRefreshCmd": "print(var_dic_list())"
    },
    "r": {
     "delete_cmd_postfix": ") ",
     "delete_cmd_prefix": "rm(",
     "library": "var_list.r",
     "varRefreshCmd": "cat(var_dic_list()) "
    }
   },
   "types_to_exclude": [
    "module",
    "function",
    "builtin_function_or_method",
    "instance",
    "_Feature"
   ],
   "window_display": false
  }
 },
 "nbformat": 4,
 "nbformat_minor": 5
}
